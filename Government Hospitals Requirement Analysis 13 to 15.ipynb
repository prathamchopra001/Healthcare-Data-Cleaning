{
 "cells": [
  {
   "cell_type": "code",
   "execution_count": 5,
   "id": "b0e3f26d",
   "metadata": {},
   "outputs": [
    {
     "name": "stdout",
     "output_type": "stream",
     "text": [
      "             State/UT  Rural_Government_Hospitals  Rural_Government_Beds  \\\n",
      "0      Andhra Pradesh                         193                   6480   \n",
      "1  Arunachal Pradesh*                         208                   2136   \n",
      "2               Assam                        1176                  10944   \n",
      "3               Bihar                         930                   6083   \n",
      "4        Chhattisgarh                         169                   5070   \n",
      "\n",
      "   Urban_Government_Hospitals  Urban_Government_Beds Last_Updated  \n",
      "0                          65                  16658   01.01.2017  \n",
      "1                          10                    268   31.12.2017  \n",
      "2                          50                   6198   31.12.2017  \n",
      "3                         103                   5936   31.12.2016  \n",
      "4                          45                   4342   01.01.2016  \n"
     ]
    }
   ],
   "source": [
    "import pandas as pd\n",
    "\n",
    "# Read the government hospitals data with multi-line header\n",
    "hospital_data = pd.read_csv(\"C:/Users/meghn/OneDrive/Desktop/government_hospitals.csv\", header=[0, 1])\n",
    "\n",
    "# Rename the columns to the required format\n",
    "hospital_data.columns = ['State/UT', 'Rural_Government_Hospitals', 'Rural_Government_Beds', \n",
    "                         'Urban_Government_Hospitals', 'Urban_Government_Beds', 'Last_Updated']\n",
    "\n",
    "# Save the updated data to a new CSV file\n",
    "hospital_data.to_csv('C:/Users/meghn/OneDrive/Desktop/government_hospitals_clean.csv', index=False)\n",
    "\n",
    "# Display the first few rows of the updated data\n",
    "print(hospital_data.head())\n"
   ]
  },
  {
   "cell_type": "code",
   "execution_count": 7,
   "id": "73b17907",
   "metadata": {},
   "outputs": [
    {
     "name": "stdout",
     "output_type": "stream",
     "text": [
      "             State/UT  Rural_Government_Hospitals  Rural_Government_Beds  \\\n",
      "0  Arunachal Pradesh*                         208                   2136   \n",
      "1               Assam                        1176                  10944   \n",
      "2               Bihar                         930                   6083   \n",
      "3        Chhattisgarh                         169                   5070   \n",
      "4                Goa*                          17                   1405   \n",
      "\n",
      "   Urban_Government_Hospitals  Urban_Government_Beds Last_Updated  \n",
      "0                          10                    268   2017-12-31  \n",
      "1                          50                   6198   2017-12-31  \n",
      "2                         103                   5936   2016-12-31  \n",
      "3                          45                   4342   2016-01-01  \n",
      "4                          25                   1608   2017-12-31  \n"
     ]
    }
   ],
   "source": [
    "import pandas as pd\n",
    "\n",
    "# Function to fix State/UT names\n",
    "def fix_state_names(name):\n",
    "    # Convert to lowercase\n",
    "    name = name.lower()\n",
    "    # Capitalize first letter of each word except 'and'\n",
    "    name = ' '.join(word.capitalize() if word != 'and' else word for word in name.split())\n",
    "    return name\n",
    "\n",
    "# Read the government hospitals data with multi-line header\n",
    "hospital_data = pd.read_csv('C:/Users/meghn/OneDrive/Desktop/government_hospitals_clean.csv', header=[0, 1])\n",
    "\n",
    "# Rename the columns to the required format\n",
    "hospital_data.columns = ['State/UT', 'Rural_Government_Hospitals', 'Rural_Government_Beds', \n",
    "                         'Urban_Government_Hospitals', 'Urban_Government_Beds', 'Last_Updated']\n",
    "\n",
    "# Update the date format in the \"Last_Updated\" column\n",
    "hospital_data['Last_Updated'] = pd.to_datetime(hospital_data['Last_Updated'], format='%d.%m.%Y').dt.strftime('%Y-%m-%d')\n",
    "\n",
    "# Fix State/UT names using the function\n",
    "hospital_data['State/UT'] = hospital_data['State/UT'].apply(fix_state_names)\n",
    "\n",
    "# Save the updated data to a new CSV file\n",
    "hospital_data.to_csv('C:/Users/meghn/OneDrive/Desktop/government_hospitals_clean.csv', index=False)\n",
    "\n",
    "# Display the first few rows of the updated data\n",
    "print(hospital_data.head())\n"
   ]
  },
  {
   "cell_type": "code",
   "execution_count": 10,
   "id": "1b37618a",
   "metadata": {},
   "outputs": [
    {
     "name": "stdout",
     "output_type": "stream",
     "text": [
      "Recommended State/UT for setting up a new government hospital:\n",
      "       State/UT  Rural_Government_Hospitals\n",
      "317  Chandigarh                           0\n"
     ]
    }
   ],
   "source": [
    "import pandas as pd\n",
    "\n",
    "# Load the hospital data\n",
    "hospital_data = pd.read_csv('C:/Users/meghn/OneDrive/Desktop/government_hospitals_clean.csv')\n",
    "\n",
    "# Load the population data (assuming you have this data)\n",
    "population_data = pd.read_csv(\"C:/Users/meghn/OneDrive/Desktop/census.csv\")\n",
    "\n",
    "# Merge hospital and population data\n",
    "merged_data = pd.merge(hospital_data, population_data, on='State/UT')\n",
    "\n",
    "# Calculate total number of beds (government + private) per population\n",
    "merged_data['Total_Beds_Per_1000_People'] = (merged_data['Rural_Government_Beds'] + merged_data['Urban_Government_Beds']) / (merged_data['Population'] / 1000)\n",
    "\n",
    "# Find the three states with the least amount of beds per population\n",
    "top_states = merged_data.nsmallest(3, 'Total_Beds_Per_1000_People')\n",
    "\n",
    "# Sort by the number of government hospitals\n",
    "recommended_state = top_states.nsmallest(1, 'Rural_Government_Hospitals')\n",
    "\n",
    "# Display the recommended state for setting up a new government hospital\n",
    "print(\"Recommended State/UT for setting up a new government hospital:\")\n",
    "print(recommended_state[['State/UT', 'Rural_Government_Hospitals']])\n"
   ]
  },
  {
   "cell_type": "code",
   "execution_count": null,
   "id": "730e164b",
   "metadata": {},
   "outputs": [],
   "source": []
  }
 ],
 "metadata": {
  "kernelspec": {
   "display_name": "Python 3 (ipykernel)",
   "language": "python",
   "name": "python3"
  },
  "language_info": {
   "codemirror_mode": {
    "name": "ipython",
    "version": 3
   },
   "file_extension": ".py",
   "mimetype": "text/x-python",
   "name": "python",
   "nbconvert_exporter": "python",
   "pygments_lexer": "ipython3",
   "version": "3.10.9"
  }
 },
 "nbformat": 4,
 "nbformat_minor": 5
}
