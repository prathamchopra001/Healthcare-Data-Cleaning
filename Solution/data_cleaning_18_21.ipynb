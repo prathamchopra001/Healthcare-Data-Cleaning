{
 "cells": [
  {
   "cell_type": "code",
   "execution_count": 1,
   "metadata": {},
   "outputs": [],
   "source": [
    "import mysql.connector as sql\n",
    "import pandas as pd\n",
    "from mysql.connector import Error"
   ]
  },
  {
   "cell_type": "markdown",
   "metadata": {},
   "source": [
    "## Problem Statement 18:"
   ]
  },
  {
   "cell_type": "code",
   "execution_count": 2,
   "metadata": {},
   "outputs": [
    {
     "name": "stdout",
     "output_type": "stream",
     "text": [
      "MySQL Database connection successful\n"
     ]
    }
   ],
   "source": [
    "def create_server_connection(host_name, user_name, user_password):\n",
    "    connection = None\n",
    "    try:\n",
    "        connection = sql.connect(host=host_name, user=user_name, passwd=user_password)\n",
    "        print(\"MySQL Database connection successful\")\n",
    "    except Error as err:\n",
    "        print(f\"The error '{err}' occurred\")\n",
    "\n",
    "    return connection\n",
    "\n",
    "pw = \"Pratham123***\"\n",
    "connection = create_server_connection(\"localhost\", \"root\", pw)"
   ]
  },
  {
   "cell_type": "code",
   "execution_count": 3,
   "metadata": {},
   "outputs": [
    {
     "name": "stdout",
     "output_type": "stream",
     "text": [
      "Database created successfully\n"
     ]
    }
   ],
   "source": [
    "def create_db(connection, query):\n",
    "    cursor = connection.cursor()\n",
    "    try:\n",
    "        cursor.execute(query)\n",
    "        print(\"Database created successfully\")\n",
    "    except Error as err:\n",
    "        print(f\"The error '{err}' occurred\")\n",
    "\n",
    "\n",
    "connection = create_db(connection, \"CREATE DATABASE if not exists healthcare_db\")"
   ]
  },
  {
   "cell_type": "code",
   "execution_count": 4,
   "metadata": {},
   "outputs": [
    {
     "name": "stdout",
     "output_type": "stream",
     "text": [
      "MySQL Database connection successful\n"
     ]
    }
   ],
   "source": [
    "def create_db_connection(host_name, user_name, user_password, db_name):\n",
    "    connection = None\n",
    "    try:\n",
    "        connection = sql.connect(host=host_name, user=user_name, passwd=user_password, database=db_name)\n",
    "        print(\"MySQL Database connection successful\")\n",
    "    except Error as err:\n",
    "        print(f\"The error '{err}' occurred\")\n",
    "\n",
    "    return connection\n",
    "\n",
    "connection = create_db_connection(\"localhost\", \"root\", pw, \"healthcare_db\")"
   ]
  },
  {
   "cell_type": "code",
   "execution_count": 5,
   "metadata": {},
   "outputs": [],
   "source": [
    "def execute_query(connection, query):\n",
    "    cursor = connection.cursor()\n",
    "    try:\n",
    "        cursor.execute(query)\n",
    "        connection.commit()\n",
    "        print(\"Query successful\")\n",
    "    except Error as err:\n",
    "        print(f\"The error '{err}' occurred\")"
   ]
  },
  {
   "cell_type": "code",
   "execution_count": 6,
   "metadata": {},
   "outputs": [],
   "source": [
    "def run_query(connection, query):\n",
    "    cursor = connection.cursor()\n",
    "    result = None\n",
    "    try:\n",
    "        cursor.execute(query)\n",
    "        result = cursor.fetchall()\n",
    "        columns = [column[0] for column in cursor.description]\n",
    "        df = pd.DataFrame(result, columns=columns)\n",
    "        return df\n",
    "    except Error as err:\n",
    "        print(f\"The error '{err}' occurred\")"
   ]
  },
  {
   "cell_type": "code",
   "execution_count": 7,
   "metadata": {},
   "outputs": [
    {
     "name": "stdout",
     "output_type": "stream",
     "text": [
      "Query successful\n"
     ]
    }
   ],
   "source": [
    "execute_query(connection, \"USE healthcare_db\")"
   ]
  },
  {
   "cell_type": "code",
   "execution_count": 109,
   "metadata": {},
   "outputs": [],
   "source": [
    "execute_query(connection, \"\"\"CREATE TABLE IF NOT EXISTS census (\n",
    "    District VARCHAR(255),\n",
    "    State/UT VARCHAR(255),\n",
    "    Population INT,\n",
    "    Male BIGINT,\n",
    "    Female INT,\n",
    "    Literate INT,\n",
    "    Literate_Male INT,\n",
    "    Literate_Female INT,\n",
    "    Households_Rural INT,\n",
    "    Households_Urban INT,\n",
    "    Households INT,\n",
    "    Young_and_Adult INT,\n",
    "    Middle_Aged INT,\n",
    "    Senior_Citizen INT,\n",
    "    Age_Not_Stated INT,\n",
    "    PRIMARY KEY (District)\n",
    ");\"\"\")\n"
   ]
  },
  {
   "cell_type": "code",
   "execution_count": 110,
   "metadata": {},
   "outputs": [],
   "source": [
    "execute_query(connection, \"\"\"CREATE TABLE IF NOT EXISTS housing(\n",
    "District VARCHAR(255),\n",
    "    Households_Rural INT,\n",
    "    Households_Rural_Livable INT,\n",
    "    Households_Rural_Dilapidated INT,\n",
    "    Households_Rural_Toilet_Premise INT,\n",
    "    Households_Urban INT,\n",
    "    Households_Urban_Livable INT,\n",
    "    Households_Urban_Dilapidated INT,\n",
    "    Households_Urban_Toilet_Premise INT,\n",
    "    PRIMARY KEY (District),\n",
    "    FOREIGN KEY (District) REFERENCES census(District)\n",
    ");\n",
    "\"\"\")"
   ]
  },
  {
   "cell_type": "code",
   "execution_count": 111,
   "metadata": {},
   "outputs": [],
   "source": [
    "execute_query(connection, \"\"\"\n",
    "              CREATE TABLE IF NOT EXISTS all_hospitals(\n",
    "    State/UT VARCHAR(255),\n",
    "    Number_of_Primary_Health_Centers_PHCs INT,\n",
    "    Community_Health_Centers_CHCs INT,\n",
    "    Sub_District_Divisional_Hospitals_SDHs INT,\n",
    "    District_Hospitals_DHs INT,\n",
    "    Hospitals INT,\n",
    "    HospitalBeds INT,\n",
    "    PRIMARY KEY (State/UT)\n",
    ");\n",
    "\"\"\")"
   ]
  },
  {
   "cell_type": "code",
   "execution_count": 112,
   "metadata": {},
   "outputs": [],
   "source": [
    "execute_query(connection,\"\"\" CREATE TABLE IF NOT EXISTS government_hospital (\n",
    "    State/UT VARCHAR(255),\n",
    "    Rural_government_hospital INT,\n",
    "    Rural_Government_Beds INT,\n",
    "    Urban_government_hospital INT,\n",
    "    Urban_Government_Beds INT,\n",
    "    Last_Updated DATE,\n",
    "    PRIMARY KEY (State/UT),\n",
    "    FOREIGN KEY (State/UT) REFERENCES all_hospitals(State/UT)\n",
    ");\"\"\")"
   ]
  },
  {
   "cell_type": "markdown",
   "metadata": {},
   "source": [
    "## Problem Statement 19: "
   ]
  },
  {
   "cell_type": "code",
   "execution_count": 8,
   "metadata": {},
   "outputs": [
    {
     "data": {
      "text/html": [
       "<div>\n",
       "<style scoped>\n",
       "    .dataframe tbody tr th:only-of-type {\n",
       "        vertical-align: middle;\n",
       "    }\n",
       "\n",
       "    .dataframe tbody tr th {\n",
       "        vertical-align: top;\n",
       "    }\n",
       "\n",
       "    .dataframe thead th {\n",
       "        text-align: right;\n",
       "    }\n",
       "</style>\n",
       "<table border=\"1\" class=\"dataframe\">\n",
       "  <thead>\n",
       "    <tr style=\"text-align: right;\">\n",
       "      <th></th>\n",
       "      <th>State/UT</th>\n",
       "      <th>District Name</th>\n",
       "      <th>Population</th>\n",
       "      <th>Male</th>\n",
       "      <th>Female</th>\n",
       "      <th>Literate</th>\n",
       "      <th>Literate_Male</th>\n",
       "      <th>Literate_Female</th>\n",
       "      <th>Households_Rural</th>\n",
       "      <th>Households_Urban</th>\n",
       "      <th>...</th>\n",
       "      <th>Sub-District/Divisional Hospitals(SDHs)</th>\n",
       "      <th>District Hospitals(DHs)</th>\n",
       "      <th>Hospitals</th>\n",
       "      <th>HospitalBeds</th>\n",
       "      <th>State/UT</th>\n",
       "      <th>Rural_Government_Hospitals</th>\n",
       "      <th>Rural_Government_Beds</th>\n",
       "      <th>Urban_Government_Hospitals</th>\n",
       "      <th>Urban_Government_Beds</th>\n",
       "      <th>Last_Updated</th>\n",
       "    </tr>\n",
       "  </thead>\n",
       "  <tbody>\n",
       "    <tr>\n",
       "      <th>0</th>\n",
       "      <td>Himachal Pradesh</td>\n",
       "      <td>Chamba</td>\n",
       "      <td>519080</td>\n",
       "      <td>261320</td>\n",
       "      <td>257760</td>\n",
       "      <td>323842</td>\n",
       "      <td>186064</td>\n",
       "      <td>137778</td>\n",
       "      <td>186395</td>\n",
       "      <td>13836</td>\n",
       "      <td>...</td>\n",
       "      <td>61</td>\n",
       "      <td>15</td>\n",
       "      <td>671</td>\n",
       "      <td>8706</td>\n",
       "      <td>Himachal Pradesh</td>\n",
       "      <td>705</td>\n",
       "      <td>5665</td>\n",
       "      <td>96</td>\n",
       "      <td>6734</td>\n",
       "      <td>31-12-2017</td>\n",
       "    </tr>\n",
       "    <tr>\n",
       "      <th>1</th>\n",
       "      <td>Himachal Pradesh</td>\n",
       "      <td>Kangra</td>\n",
       "      <td>1510075</td>\n",
       "      <td>750591</td>\n",
       "      <td>759484</td>\n",
       "      <td>1152640</td>\n",
       "      <td>606443</td>\n",
       "      <td>546197</td>\n",
       "      <td>588321</td>\n",
       "      <td>39007</td>\n",
       "      <td>...</td>\n",
       "      <td>61</td>\n",
       "      <td>15</td>\n",
       "      <td>671</td>\n",
       "      <td>8706</td>\n",
       "      <td>Himachal Pradesh</td>\n",
       "      <td>705</td>\n",
       "      <td>5665</td>\n",
       "      <td>96</td>\n",
       "      <td>6734</td>\n",
       "      <td>31-12-2017</td>\n",
       "    </tr>\n",
       "    <tr>\n",
       "      <th>2</th>\n",
       "      <td>Himachal Pradesh</td>\n",
       "      <td>Kullu</td>\n",
       "      <td>437903</td>\n",
       "      <td>225452</td>\n",
       "      <td>212451</td>\n",
       "      <td>307672</td>\n",
       "      <td>174550</td>\n",
       "      <td>133122</td>\n",
       "      <td>167995</td>\n",
       "      <td>20709</td>\n",
       "      <td>...</td>\n",
       "      <td>61</td>\n",
       "      <td>15</td>\n",
       "      <td>671</td>\n",
       "      <td>8706</td>\n",
       "      <td>Himachal Pradesh</td>\n",
       "      <td>705</td>\n",
       "      <td>5665</td>\n",
       "      <td>96</td>\n",
       "      <td>6734</td>\n",
       "      <td>31-12-2017</td>\n",
       "    </tr>\n",
       "  </tbody>\n",
       "</table>\n",
       "<p>3 rows × 37 columns</p>\n",
       "</div>"
      ],
      "text/plain": [
       "           State/UT District Name  Population    Male  Female  Literate  \\\n",
       "0  Himachal Pradesh        Chamba      519080  261320  257760    323842   \n",
       "1  Himachal Pradesh        Kangra     1510075  750591  759484   1152640   \n",
       "2  Himachal Pradesh         Kullu      437903  225452  212451    307672   \n",
       "\n",
       "   Literate_Male  Literate_Female  Households_Rural  Households_Urban  ...  \\\n",
       "0         186064           137778            186395             13836  ...   \n",
       "1         606443           546197            588321             39007  ...   \n",
       "2         174550           133122            167995             20709  ...   \n",
       "\n",
       "   Sub-District/Divisional Hospitals(SDHs)  District Hospitals(DHs)  \\\n",
       "0                                       61                       15   \n",
       "1                                       61                       15   \n",
       "2                                       61                       15   \n",
       "\n",
       "   Hospitals  HospitalBeds          State/UT Rural_Government_Hospitals  \\\n",
       "0        671          8706  Himachal Pradesh                        705   \n",
       "1        671          8706  Himachal Pradesh                        705   \n",
       "2        671          8706  Himachal Pradesh                        705   \n",
       "\n",
       "   Rural_Government_Beds  Urban_Government_Hospitals  Urban_Government_Beds  \\\n",
       "0                   5665                          96                   6734   \n",
       "1                   5665                          96                   6734   \n",
       "2                   5665                          96                   6734   \n",
       "\n",
       "   Last_Updated  \n",
       "0    31-12-2017  \n",
       "1    31-12-2017  \n",
       "2    31-12-2017  \n",
       "\n",
       "[3 rows x 37 columns]"
      ]
     },
     "execution_count": 8,
     "metadata": {},
     "output_type": "execute_result"
    }
   ],
   "source": [
    "run_query(connection, \"\"\"SELECT *\n",
    "FROM census\n",
    "INNER JOIN housing ON census.`District Name`= housing.District\n",
    "INNER JOIN all_hospitals ON census.`State/UT` = all_hospitals.`State/UT`\n",
    "INNER JOIN government_hospital ON all_hospitals.`State/UT` = government_hospital.`State/UT`\n",
    "LIMIT 3\"\"\")"
   ]
  },
  {
   "cell_type": "markdown",
   "metadata": {},
   "source": [
    "## Problem Statement 20: "
   ]
  },
  {
   "cell_type": "code",
   "execution_count": null,
   "metadata": {},
   "outputs": [],
   "source": []
  },
  {
   "cell_type": "markdown",
   "metadata": {},
   "source": [
    "## Problem Statement 21"
   ]
  },
  {
   "cell_type": "code",
   "execution_count": 9,
   "metadata": {},
   "outputs": [
    {
     "name": "stdout",
     "output_type": "stream",
     "text": [
      "Query successful\n"
     ]
    }
   ],
   "source": [
    "execute_query(connection, \"\"\"\n",
    "              DROP FUNCTION IF EXISTS get_population_district;\n",
    "              \"\"\")"
   ]
  },
  {
   "cell_type": "code",
   "execution_count": 10,
   "metadata": {},
   "outputs": [
    {
     "name": "stdout",
     "output_type": "stream",
     "text": [
      "Query successful\n"
     ]
    }
   ],
   "source": [
    "execute_query(connection, \"\"\"\n",
    "              CREATE FUNCTION IF NOT EXISTS get_population_district(district_name TEXT)\n",
    "              RETURNS INT\n",
    "              DETERMINISTIC\n",
    "              BEGIN\n",
    "              DECLARE result INT;\n",
    "              SELECT Population INTO result FROM census WHERE `District Name` = district_name;\n",
    "              RETURN result;\n",
    "              END;\n",
    "              \"\"\")"
   ]
  },
  {
   "cell_type": "code",
   "execution_count": 11,
   "metadata": {},
   "outputs": [
    {
     "data": {
      "text/html": [
       "<div>\n",
       "<style scoped>\n",
       "    .dataframe tbody tr th:only-of-type {\n",
       "        vertical-align: middle;\n",
       "    }\n",
       "\n",
       "    .dataframe tbody tr th {\n",
       "        vertical-align: top;\n",
       "    }\n",
       "\n",
       "    .dataframe thead th {\n",
       "        text-align: right;\n",
       "    }\n",
       "</style>\n",
       "<table border=\"1\" class=\"dataframe\">\n",
       "  <thead>\n",
       "    <tr style=\"text-align: right;\">\n",
       "      <th></th>\n",
       "      <th>get_population_district('Ahmadabad')</th>\n",
       "    </tr>\n",
       "  </thead>\n",
       "  <tbody>\n",
       "    <tr>\n",
       "      <th>0</th>\n",
       "      <td>7214225</td>\n",
       "    </tr>\n",
       "  </tbody>\n",
       "</table>\n",
       "</div>"
      ],
      "text/plain": [
       "   get_population_district('Ahmadabad')\n",
       "0                               7214225"
      ]
     },
     "execution_count": 11,
     "metadata": {},
     "output_type": "execute_result"
    }
   ],
   "source": [
    "run_query(connection, \"SELECT get_population_district('Ahmadabad')\")"
   ]
  },
  {
   "cell_type": "code",
   "execution_count": 12,
   "metadata": {},
   "outputs": [
    {
     "name": "stdout",
     "output_type": "stream",
     "text": [
      "Query successful\n"
     ]
    }
   ],
   "source": [
    "execute_query(connection, \"\"\"\n",
    "              DROP FUNCTION IF EXISTS get_population_state;\n",
    "              \"\"\")"
   ]
  },
  {
   "cell_type": "code",
   "execution_count": 13,
   "metadata": {},
   "outputs": [
    {
     "name": "stdout",
     "output_type": "stream",
     "text": [
      "Query successful\n"
     ]
    }
   ],
   "source": [
    "execute_query(connection,\"\"\"\n",
    "              CREATE FUNCTION IF NOT EXISTS get_population_state(state_name TEXT)\n",
    "RETURNS INT\n",
    "DETERMINISTIC\n",
    "BEGIN\n",
    "    DECLARE result INT;\n",
    "    SELECT SUM(Population) INTO result\n",
    "    FROM census\n",
    "    WHERE `State/UT` = state_name\n",
    "    GROUP BY `State/UT`;\n",
    "    RETURN COALESCE(result, 0);\n",
    "END;\n",
    "              \"\"\")"
   ]
  },
  {
   "cell_type": "code",
   "execution_count": 14,
   "metadata": {},
   "outputs": [
    {
     "data": {
      "text/html": [
       "<div>\n",
       "<style scoped>\n",
       "    .dataframe tbody tr th:only-of-type {\n",
       "        vertical-align: middle;\n",
       "    }\n",
       "\n",
       "    .dataframe tbody tr th {\n",
       "        vertical-align: top;\n",
       "    }\n",
       "\n",
       "    .dataframe thead th {\n",
       "        text-align: right;\n",
       "    }\n",
       "</style>\n",
       "<table border=\"1\" class=\"dataframe\">\n",
       "  <thead>\n",
       "    <tr style=\"text-align: right;\">\n",
       "      <th></th>\n",
       "      <th>get_population_state('Gujarat')</th>\n",
       "    </tr>\n",
       "  </thead>\n",
       "  <tbody>\n",
       "    <tr>\n",
       "      <th>0</th>\n",
       "      <td>58404628</td>\n",
       "    </tr>\n",
       "  </tbody>\n",
       "</table>\n",
       "</div>"
      ],
      "text/plain": [
       "   get_population_state('Gujarat')\n",
       "0                         58404628"
      ]
     },
     "execution_count": 14,
     "metadata": {},
     "output_type": "execute_result"
    }
   ],
   "source": [
    "run_query(connection, \"SELECT get_population_state('Gujarat');\")"
   ]
  },
  {
   "cell_type": "code",
   "execution_count": 15,
   "metadata": {},
   "outputs": [
    {
     "name": "stdout",
     "output_type": "stream",
     "text": [
      "Query successful\n"
     ]
    }
   ],
   "source": [
    "execute_query(connection, \"\"\"\n",
    "              DROP FUNCTION IF EXISTS senior_citizen_population;\n",
    "              \"\"\")"
   ]
  },
  {
   "cell_type": "code",
   "execution_count": 16,
   "metadata": {},
   "outputs": [
    {
     "name": "stdout",
     "output_type": "stream",
     "text": [
      "Query successful\n"
     ]
    }
   ],
   "source": [
    "execute_query(connection, \"\"\"\n",
    "              CREATE FUNCTION IF NOT EXISTS senior_citizen_population(state_name TEXT)\n",
    "              RETURNS INT\n",
    "              DETERMINISTIC\n",
    "              BEGIN\n",
    "              DECLARE result INT;\n",
    "              SELECT SUM(Senior_Citizen) INTO result FROM census WHERE `State/UT` = state_name;\n",
    "              RETURN result;\n",
    "              END;\n",
    "              \"\"\")"
   ]
  },
  {
   "cell_type": "code",
   "execution_count": 17,
   "metadata": {},
   "outputs": [
    {
     "data": {
      "text/html": [
       "<div>\n",
       "<style scoped>\n",
       "    .dataframe tbody tr th:only-of-type {\n",
       "        vertical-align: middle;\n",
       "    }\n",
       "\n",
       "    .dataframe tbody tr th {\n",
       "        vertical-align: top;\n",
       "    }\n",
       "\n",
       "    .dataframe thead th {\n",
       "        text-align: right;\n",
       "    }\n",
       "</style>\n",
       "<table border=\"1\" class=\"dataframe\">\n",
       "  <thead>\n",
       "    <tr style=\"text-align: right;\">\n",
       "      <th></th>\n",
       "      <th>senior_citizen_population('Gujarat')</th>\n",
       "    </tr>\n",
       "  </thead>\n",
       "  <tbody>\n",
       "    <tr>\n",
       "      <th>0</th>\n",
       "      <td>9181111</td>\n",
       "    </tr>\n",
       "  </tbody>\n",
       "</table>\n",
       "</div>"
      ],
      "text/plain": [
       "   senior_citizen_population('Gujarat')\n",
       "0                               9181111"
      ]
     },
     "execution_count": 17,
     "metadata": {},
     "output_type": "execute_result"
    }
   ],
   "source": [
    "run_query(connection, \"SELECT senior_citizen_population('Gujarat');\")"
   ]
  },
  {
   "cell_type": "code",
   "execution_count": 18,
   "metadata": {},
   "outputs": [
    {
     "name": "stdout",
     "output_type": "stream",
     "text": [
      "Query successful\n"
     ]
    }
   ],
   "source": [
    "execute_query(connection, \"\"\"\n",
    "              DROP FUNCTION IF EXISTS get_hospital_beds;\n",
    "              \"\"\")"
   ]
  },
  {
   "cell_type": "code",
   "execution_count": 19,
   "metadata": {},
   "outputs": [
    {
     "name": "stdout",
     "output_type": "stream",
     "text": [
      "Query successful\n"
     ]
    }
   ],
   "source": [
    "execute_query(connection, \"\"\"\n",
    "              CREATE FUNCTION IF NOT EXISTS get_hospital_beds(state_name TEXT)\n",
    "              RETURNS INT\n",
    "              DETERMINISTIC\n",
    "              BEGIN\n",
    "              DECLARE result INT;\n",
    "              SELECT HospitalBeds INTO result FROM all_hospitals WHERE `State/UT` = `State_Name`;\n",
    "              RETURN result;\n",
    "              END;\n",
    "              \"\"\")"
   ]
  },
  {
   "cell_type": "code",
   "execution_count": 20,
   "metadata": {},
   "outputs": [
    {
     "data": {
      "text/html": [
       "<div>\n",
       "<style scoped>\n",
       "    .dataframe tbody tr th:only-of-type {\n",
       "        vertical-align: middle;\n",
       "    }\n",
       "\n",
       "    .dataframe tbody tr th {\n",
       "        vertical-align: top;\n",
       "    }\n",
       "\n",
       "    .dataframe thead th {\n",
       "        text-align: right;\n",
       "    }\n",
       "</style>\n",
       "<table border=\"1\" class=\"dataframe\">\n",
       "  <thead>\n",
       "    <tr style=\"text-align: right;\">\n",
       "      <th></th>\n",
       "      <th>get_hospital_beds('Gujarat')</th>\n",
       "    </tr>\n",
       "  </thead>\n",
       "  <tbody>\n",
       "    <tr>\n",
       "      <th>0</th>\n",
       "      <td>41129</td>\n",
       "    </tr>\n",
       "  </tbody>\n",
       "</table>\n",
       "</div>"
      ],
      "text/plain": [
       "   get_hospital_beds('Gujarat')\n",
       "0                         41129"
      ]
     },
     "execution_count": 20,
     "metadata": {},
     "output_type": "execute_result"
    }
   ],
   "source": [
    "run_query(connection, \"SELECT get_hospital_beds('Gujarat');\")"
   ]
  },
  {
   "cell_type": "code",
   "execution_count": 21,
   "metadata": {},
   "outputs": [
    {
     "name": "stdout",
     "output_type": "stream",
     "text": [
      "Query successful\n"
     ]
    }
   ],
   "source": [
    "execute_query(connection, \"DROP FUNCTION IF EXISTS get_govt_hospital_beds;\")"
   ]
  },
  {
   "cell_type": "code",
   "execution_count": 22,
   "metadata": {},
   "outputs": [
    {
     "name": "stdout",
     "output_type": "stream",
     "text": [
      "Query successful\n"
     ]
    }
   ],
   "source": [
    "execute_query(connection, \"\"\"\n",
    "              CREATE FUNCTION IF NOT EXISTS get_govt_hospital_beds(state_name TEXT)\n",
    "              RETURNS INT\n",
    "              DETERMINISTIC\n",
    "              BEGIN\n",
    "              DECLARE result INT;\n",
    "              SELECT Urban_Government_Beds+Rural_Government_Beds INTO result FROM government_hospital WHERE `State/UT` = state_name;\n",
    "              RETURN result;\n",
    "              END;\n",
    "              \"\"\")"
   ]
  },
  {
   "cell_type": "code",
   "execution_count": 23,
   "metadata": {},
   "outputs": [
    {
     "data": {
      "text/html": [
       "<div>\n",
       "<style scoped>\n",
       "    .dataframe tbody tr th:only-of-type {\n",
       "        vertical-align: middle;\n",
       "    }\n",
       "\n",
       "    .dataframe tbody tr th {\n",
       "        vertical-align: top;\n",
       "    }\n",
       "\n",
       "    .dataframe thead th {\n",
       "        text-align: right;\n",
       "    }\n",
       "</style>\n",
       "<table border=\"1\" class=\"dataframe\">\n",
       "  <thead>\n",
       "    <tr style=\"text-align: right;\">\n",
       "      <th></th>\n",
       "      <th>get_govt_hospital_beds('Gujarat')</th>\n",
       "    </tr>\n",
       "  </thead>\n",
       "  <tbody>\n",
       "    <tr>\n",
       "      <th>0</th>\n",
       "      <td>32280</td>\n",
       "    </tr>\n",
       "  </tbody>\n",
       "</table>\n",
       "</div>"
      ],
      "text/plain": [
       "   get_govt_hospital_beds('Gujarat')\n",
       "0                              32280"
      ]
     },
     "execution_count": 23,
     "metadata": {},
     "output_type": "execute_result"
    }
   ],
   "source": [
    "run_query(connection, \"SELECT get_govt_hospital_beds('Gujarat');\")"
   ]
  },
  {
   "cell_type": "code",
   "execution_count": 24,
   "metadata": {},
   "outputs": [
    {
     "name": "stdout",
     "output_type": "stream",
     "text": [
      "Query successful\n"
     ]
    }
   ],
   "source": [
    "execute_query(connection, \"DROP FUNCTION IF EXISTS beds_per_lakh;\")"
   ]
  },
  {
   "cell_type": "code",
   "execution_count": 25,
   "metadata": {},
   "outputs": [
    {
     "name": "stdout",
     "output_type": "stream",
     "text": [
      "Query successful\n"
     ]
    }
   ],
   "source": [
    "execute_query(connection, \"\"\"\n",
    "              CREATE FUNCTION IF NOT EXISTS beds_per_lakh(state_name TEXT)\n",
    "              RETURNS FLOAT\n",
    "              DETERMINISTIC\n",
    "              BEGIN\n",
    "              DECLARE result FLOAT;\n",
    "              SELECT (get_hospital_beds(state_name)/(get_population_state(state_name))*100000) INTO result;\n",
    "              RETURN result;\n",
    "              END;\n",
    "              \"\"\")"
   ]
  },
  {
   "cell_type": "code",
   "execution_count": 26,
   "metadata": {},
   "outputs": [
    {
     "data": {
      "text/html": [
       "<div>\n",
       "<style scoped>\n",
       "    .dataframe tbody tr th:only-of-type {\n",
       "        vertical-align: middle;\n",
       "    }\n",
       "\n",
       "    .dataframe tbody tr th {\n",
       "        vertical-align: top;\n",
       "    }\n",
       "\n",
       "    .dataframe thead th {\n",
       "        text-align: right;\n",
       "    }\n",
       "</style>\n",
       "<table border=\"1\" class=\"dataframe\">\n",
       "  <thead>\n",
       "    <tr style=\"text-align: right;\">\n",
       "      <th></th>\n",
       "      <th>beds_per_lakh('Gujarat')</th>\n",
       "    </tr>\n",
       "  </thead>\n",
       "  <tbody>\n",
       "    <tr>\n",
       "      <th>0</th>\n",
       "      <td>70.4207</td>\n",
       "    </tr>\n",
       "  </tbody>\n",
       "</table>\n",
       "</div>"
      ],
      "text/plain": [
       "   beds_per_lakh('Gujarat')\n",
       "0                   70.4207"
      ]
     },
     "execution_count": 26,
     "metadata": {},
     "output_type": "execute_result"
    }
   ],
   "source": [
    "run_query(connection, \"SELECT beds_per_lakh('Gujarat');\")"
   ]
  },
  {
   "cell_type": "code",
   "execution_count": 27,
   "metadata": {},
   "outputs": [
    {
     "name": "stdout",
     "output_type": "stream",
     "text": [
      "Query successful\n"
     ]
    }
   ],
   "source": [
    "execute_query(connection, \"DROP FUNCTION IF EXISTS govt_beds_per_lakh;\")"
   ]
  },
  {
   "cell_type": "code",
   "execution_count": 28,
   "metadata": {},
   "outputs": [
    {
     "name": "stdout",
     "output_type": "stream",
     "text": [
      "Query successful\n"
     ]
    }
   ],
   "source": [
    "execute_query(connection, \"\"\"\n",
    "              CREATE FUNCTION IF NOT EXISTS govt_beds_per_lakh(state_name TEXT)\n",
    "              RETURNS FLOAT\n",
    "              DETERMINISTIC\n",
    "              BEGIN\n",
    "              DECLARE result FLOAT;\n",
    "              SELECT (get_govt_hospital_beds(state_name)/(get_population_state(state_name))*100000) INTO result;\n",
    "              RETURN result;\n",
    "              END;\n",
    "              \"\"\")"
   ]
  },
  {
   "cell_type": "code",
   "execution_count": 29,
   "metadata": {},
   "outputs": [
    {
     "data": {
      "text/html": [
       "<div>\n",
       "<style scoped>\n",
       "    .dataframe tbody tr th:only-of-type {\n",
       "        vertical-align: middle;\n",
       "    }\n",
       "\n",
       "    .dataframe tbody tr th {\n",
       "        vertical-align: top;\n",
       "    }\n",
       "\n",
       "    .dataframe thead th {\n",
       "        text-align: right;\n",
       "    }\n",
       "</style>\n",
       "<table border=\"1\" class=\"dataframe\">\n",
       "  <thead>\n",
       "    <tr style=\"text-align: right;\">\n",
       "      <th></th>\n",
       "      <th>govt_beds_per_lakh('Gujarat')</th>\n",
       "    </tr>\n",
       "  </thead>\n",
       "  <tbody>\n",
       "    <tr>\n",
       "      <th>0</th>\n",
       "      <td>55.2695</td>\n",
       "    </tr>\n",
       "  </tbody>\n",
       "</table>\n",
       "</div>"
      ],
      "text/plain": [
       "   govt_beds_per_lakh('Gujarat')\n",
       "0                        55.2695"
      ]
     },
     "execution_count": 29,
     "metadata": {},
     "output_type": "execute_result"
    }
   ],
   "source": [
    "run_query(connection, \"SELECT govt_beds_per_lakh('Gujarat');\")"
   ]
  },
  {
   "cell_type": "code",
   "execution_count": 30,
   "metadata": {},
   "outputs": [
    {
     "name": "stdout",
     "output_type": "stream",
     "text": [
      "Query successful\n"
     ]
    }
   ],
   "source": [
    "execute_query(connection, \"DROP FUNCTION IF EXISTS get_govt_hospital;\")"
   ]
  },
  {
   "cell_type": "code",
   "execution_count": 31,
   "metadata": {},
   "outputs": [
    {
     "name": "stdout",
     "output_type": "stream",
     "text": [
      "Query successful\n"
     ]
    }
   ],
   "source": [
    "execute_query(connection, \"\"\"\n",
    "              CREATE FUNCTION IF NOT EXISTS get_govt_hospital(state_name TEXT)\n",
    "              RETURNS INT\n",
    "              DETERMINISTIC\n",
    "              BEGIN\n",
    "              DECLARE result INT;\n",
    "              SELECT (Rural_Government_Hospitals+Urban_Government_Hospitals) INTO result FROM government_hospital WHERE `State/UT` = state_name;\n",
    "              RETURN result;\n",
    "              END;\n",
    "              \"\"\")"
   ]
  },
  {
   "cell_type": "code",
   "execution_count": 32,
   "metadata": {},
   "outputs": [
    {
     "data": {
      "text/html": [
       "<div>\n",
       "<style scoped>\n",
       "    .dataframe tbody tr th:only-of-type {\n",
       "        vertical-align: middle;\n",
       "    }\n",
       "\n",
       "    .dataframe tbody tr th {\n",
       "        vertical-align: top;\n",
       "    }\n",
       "\n",
       "    .dataframe thead th {\n",
       "        text-align: right;\n",
       "    }\n",
       "</style>\n",
       "<table border=\"1\" class=\"dataframe\">\n",
       "  <thead>\n",
       "    <tr style=\"text-align: right;\">\n",
       "      <th></th>\n",
       "      <th>get_govt_hospital('Gujarat')</th>\n",
       "    </tr>\n",
       "  </thead>\n",
       "  <tbody>\n",
       "    <tr>\n",
       "      <th>0</th>\n",
       "      <td>486</td>\n",
       "    </tr>\n",
       "  </tbody>\n",
       "</table>\n",
       "</div>"
      ],
      "text/plain": [
       "   get_govt_hospital('Gujarat')\n",
       "0                           486"
      ]
     },
     "execution_count": 32,
     "metadata": {},
     "output_type": "execute_result"
    }
   ],
   "source": [
    "run_query(connection, \"SELECT get_govt_hospital('Gujarat');\")"
   ]
  },
  {
   "cell_type": "markdown",
   "metadata": {},
   "source": [
    "## Problem Statement 22:\n"
   ]
  },
  {
   "cell_type": "code",
   "execution_count": 33,
   "metadata": {},
   "outputs": [
    {
     "data": {
      "text/plain": [
       "['Arunachal Pradesh',\n",
       " 'Assam',\n",
       " 'Manipur',\n",
       " 'Meghalaya',\n",
       " 'Mizoram',\n",
       " 'Nagaland',\n",
       " 'Tripura ']"
      ]
     },
     "execution_count": 33,
     "metadata": {},
     "output_type": "execute_result"
    }
   ],
   "source": [
    "with open('Data/north_east_states.txt', 'r') as f:\n",
    "    north_east_states = f.read().splitlines()\n",
    "north_east_states"
   ]
  },
  {
   "cell_type": "code",
   "execution_count": 35,
   "metadata": {},
   "outputs": [
    {
     "data": {
      "text/html": [
       "<div>\n",
       "<style scoped>\n",
       "    .dataframe tbody tr th:only-of-type {\n",
       "        vertical-align: middle;\n",
       "    }\n",
       "\n",
       "    .dataframe tbody tr th {\n",
       "        vertical-align: top;\n",
       "    }\n",
       "\n",
       "    .dataframe thead th {\n",
       "        text-align: right;\n",
       "    }\n",
       "</style>\n",
       "<table border=\"1\" class=\"dataframe\">\n",
       "  <thead>\n",
       "    <tr style=\"text-align: right;\">\n",
       "      <th></th>\n",
       "      <th>State_Name</th>\n",
       "      <th>Population</th>\n",
       "      <th>Senior Citizen Population</th>\n",
       "      <th>Number of Government Hospital</th>\n",
       "      <th>Number of Government Hospital beds</th>\n",
       "      <th>Number of Government Hospital Beds for 1L population</th>\n",
       "      <th>Number of Government Hospital beds for 1L senior citizen</th>\n",
       "    </tr>\n",
       "  </thead>\n",
       "  <tbody>\n",
       "    <tr>\n",
       "      <th>0</th>\n",
       "      <td>Manipur</td>\n",
       "      <td>2855794</td>\n",
       "      <td>409796</td>\n",
       "      <td>30</td>\n",
       "      <td>1427</td>\n",
       "      <td>50.0</td>\n",
       "      <td>348</td>\n",
       "    </tr>\n",
       "    <tr>\n",
       "      <th>1</th>\n",
       "      <td>Assam</td>\n",
       "      <td>31205576</td>\n",
       "      <td>4127732</td>\n",
       "      <td>1226</td>\n",
       "      <td>17142</td>\n",
       "      <td>55.0</td>\n",
       "      <td>415</td>\n",
       "    </tr>\n",
       "    <tr>\n",
       "      <th>2</th>\n",
       "      <td>Nagaland</td>\n",
       "      <td>1978502</td>\n",
       "      <td>211983</td>\n",
       "      <td>36</td>\n",
       "      <td>1880</td>\n",
       "      <td>95.0</td>\n",
       "      <td>887</td>\n",
       "    </tr>\n",
       "    <tr>\n",
       "      <th>3</th>\n",
       "      <td>Meghalaya</td>\n",
       "      <td>2966889</td>\n",
       "      <td>287754</td>\n",
       "      <td>157</td>\n",
       "      <td>4457</td>\n",
       "      <td>150.0</td>\n",
       "      <td>1549</td>\n",
       "    </tr>\n",
       "    <tr>\n",
       "      <th>4</th>\n",
       "      <td>Mizoram</td>\n",
       "      <td>1097206</td>\n",
       "      <td>144061</td>\n",
       "      <td>90</td>\n",
       "      <td>1997</td>\n",
       "      <td>182.0</td>\n",
       "      <td>1386</td>\n",
       "    </tr>\n",
       "    <tr>\n",
       "      <th>5</th>\n",
       "      <td>Arunachal Pradesh</td>\n",
       "      <td>1299780</td>\n",
       "      <td>131142</td>\n",
       "      <td>218</td>\n",
       "      <td>2404</td>\n",
       "      <td>185.0</td>\n",
       "      <td>1833</td>\n",
       "    </tr>\n",
       "  </tbody>\n",
       "</table>\n",
       "</div>"
      ],
      "text/plain": [
       "          State_Name  Population  Senior Citizen Population  \\\n",
       "0            Manipur     2855794                     409796   \n",
       "1              Assam    31205576                    4127732   \n",
       "2           Nagaland     1978502                     211983   \n",
       "3          Meghalaya     2966889                     287754   \n",
       "4            Mizoram     1097206                     144061   \n",
       "5  Arunachal Pradesh     1299780                     131142   \n",
       "\n",
       "   Number of Government Hospital  Number of Government Hospital beds  \\\n",
       "0                             30                                1427   \n",
       "1                           1226                               17142   \n",
       "2                             36                                1880   \n",
       "3                            157                                4457   \n",
       "4                             90                                1997   \n",
       "5                            218                                2404   \n",
       "\n",
       "   Number of Government Hospital Beds for 1L population  \\\n",
       "0                                               50.0      \n",
       "1                                               55.0      \n",
       "2                                               95.0      \n",
       "3                                              150.0      \n",
       "4                                              182.0      \n",
       "5                                              185.0      \n",
       "\n",
       "  Number of Government Hospital beds for 1L senior citizen  \n",
       "0                                                348        \n",
       "1                                                415        \n",
       "2                                                887        \n",
       "3                                               1549        \n",
       "4                                               1386        \n",
       "5                                               1833        "
      ]
     },
     "execution_count": 35,
     "metadata": {},
     "output_type": "execute_result"
    }
   ],
   "source": [
    "run_query(connection,\"\"\"\n",
    "            SELECT `State/UT` AS State_Name, \n",
    "            get_population_state(`State/UT`) AS Population,\n",
    "            senior_citizen_population(`State/UT`) AS `Senior Citizen Population`,\n",
    "            get_govt_hospital(`State/UT`) AS `Number of Government Hospital`,\n",
    "            get_govt_hospital_beds(`State/UT`) AS `Number of Government Hospital beds`,\n",
    "            ROUND(govt_beds_per_lakh(`State/UT`)) AS `Number of Government Hospital Beds for 1L population`,\n",
    "            ROUND(get_govt_hospital_beds(`State/UT`)/(senior_citizen_population(`State/UT`))*100000) as `Number of Government Hospital beds for 1L senior citizen`\n",
    "            FROM census \n",
    "            WHERE `State/UT` IN ('Arunachal Pradesh','Assam','Manipur','Meghalaya','Mizoram','Nagaland','Tripura ')\n",
    "            Group By `State/UT`\n",
    "            ORDER BY govt_beds_per_lakh(`State/UT`) ASC\n",
    "            \"\"\")"
   ]
  },
  {
   "cell_type": "code",
   "execution_count": 140,
   "metadata": {},
   "outputs": [
    {
     "name": "stdout",
     "output_type": "stream",
     "text": [
      "The error '1146 (42S02): Table 'healthcare_db.government_hospitals' doesn't exist' occurred\n"
     ]
    }
   ],
   "source": []
  },
  {
   "cell_type": "code",
   "execution_count": 141,
   "metadata": {},
   "outputs": [
    {
     "name": "stdout",
     "output_type": "stream",
     "text": [
      "Query successful\n"
     ]
    }
   ],
   "source": []
  },
  {
   "cell_type": "code",
   "execution_count": null,
   "metadata": {},
   "outputs": [],
   "source": []
  }
 ],
 "metadata": {
  "kernelspec": {
   "display_name": ".venv",
   "language": "python",
   "name": "python3"
  },
  "language_info": {
   "codemirror_mode": {
    "name": "ipython",
    "version": 3
   },
   "file_extension": ".py",
   "mimetype": "text/x-python",
   "name": "python",
   "nbconvert_exporter": "python",
   "pygments_lexer": "ipython3",
   "version": "3.11.6"
  }
 },
 "nbformat": 4,
 "nbformat_minor": 2
}
