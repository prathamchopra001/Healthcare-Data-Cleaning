{
 "cells": [
  {
   "cell_type": "code",
   "execution_count": 375,
   "metadata": {},
   "outputs": [],
   "source": [
    "import mysql.connector as sql\n",
    "import pandas as pd\n",
    "from mysql.connector import Error"
   ]
  },
  {
   "cell_type": "markdown",
   "metadata": {},
   "source": [
    "## Problem Statement 18:"
   ]
  },
  {
   "cell_type": "code",
   "execution_count": 376,
   "metadata": {},
   "outputs": [
    {
     "name": "stdout",
     "output_type": "stream",
     "text": [
      "MySQL Database connection successful\n"
     ]
    }
   ],
   "source": [
    "def create_server_connection(host_name, user_name, user_password):\n",
    "    connection = None\n",
    "    try:\n",
    "        connection = sql.connect(host=host_name, user=user_name, passwd=user_password)\n",
    "        print(\"MySQL Database connection successful\")\n",
    "    except Error as err:\n",
    "        print(f\"The error '{err}' occurred\")\n",
    "\n",
    "    return connection\n",
    "\n",
    "pw = \"Pratham123***\"\n",
    "connection = create_server_connection(\"localhost\", \"root\", pw)"
   ]
  },
  {
   "cell_type": "code",
   "execution_count": 377,
   "metadata": {},
   "outputs": [
    {
     "name": "stdout",
     "output_type": "stream",
     "text": [
      "Database created successfully\n"
     ]
    }
   ],
   "source": [
    "def create_db(connection, query):\n",
    "    cursor = connection.cursor()\n",
    "    try:\n",
    "        cursor.execute(query)\n",
    "        print(\"Database created successfully\")\n",
    "    except Error as err:\n",
    "        print(f\"The error '{err}' occurred\")\n",
    "\n",
    "\n",
    "connection = create_db(connection, \"CREATE DATABASE if not exists healthcare_db\")"
   ]
  },
  {
   "cell_type": "code",
   "execution_count": 378,
   "metadata": {},
   "outputs": [
    {
     "name": "stdout",
     "output_type": "stream",
     "text": [
      "MySQL Database connection successful\n"
     ]
    }
   ],
   "source": [
    "def create_db_connection(host_name, user_name, user_password, db_name):\n",
    "    connection = None\n",
    "    try:\n",
    "        connection = sql.connect(host=host_name, user=user_name, passwd=user_password, database=db_name)\n",
    "        print(\"MySQL Database connection successful\")\n",
    "    except Error as err:\n",
    "        print(f\"The error '{err}' occurred\")\n",
    "\n",
    "    return connection\n",
    "\n",
    "connection = create_db_connection(\"localhost\", \"root\", pw, \"healthcare_db\")"
   ]
  },
  {
   "cell_type": "code",
   "execution_count": 379,
   "metadata": {},
   "outputs": [],
   "source": [
    "def execute_query(connection, query):\n",
    "    cursor = connection.cursor()\n",
    "    try:\n",
    "        cursor.execute(query)\n",
    "        connection.commit()\n",
    "        print(\"Query successful\")\n",
    "    except Error as err:\n",
    "        print(f\"The error '{err}' occurred\")"
   ]
  },
  {
   "cell_type": "code",
   "execution_count": 380,
   "metadata": {},
   "outputs": [],
   "source": [
    "def run_query(connection, query):\n",
    "    cursor = connection.cursor()\n",
    "    result = None\n",
    "    try:\n",
    "        cursor.execute(query)\n",
    "        result = cursor.fetchall()\n",
    "        columns = [column[0] for column in cursor.description]\n",
    "        df = pd.DataFrame(result, columns=columns)\n",
    "        return df\n",
    "    except Error as err:\n",
    "        print(f\"The error '{err}' occurred\")"
   ]
  },
  {
   "cell_type": "code",
   "execution_count": 381,
   "metadata": {},
   "outputs": [
    {
     "name": "stdout",
     "output_type": "stream",
     "text": [
      "Query successful\n"
     ]
    }
   ],
   "source": [
    "execute_query(connection, \"USE healthcare_db\")"
   ]
  },
  {
   "cell_type": "code",
   "execution_count": 382,
   "metadata": {},
   "outputs": [
    {
     "name": "stdout",
     "output_type": "stream",
     "text": [
      "Query successful\n"
     ]
    }
   ],
   "source": [
    "execute_query(connection, \"\"\"CREATE TABLE IF NOT EXISTS census (\n",
    "    District VARCHAR(255),\n",
    "    State_UT VARCHAR(255),\n",
    "    Population INT,\n",
    "    Male INT,\n",
    "    Female INT,\n",
    "    Literate INT,\n",
    "    Literate_Male INT,\n",
    "    Literate_Female INT,\n",
    "    Households_Rural INT,\n",
    "    Households_Urban INT,\n",
    "    Households INT,\n",
    "    Young_and_Adult INT,\n",
    "    Middle_Aged INT,\n",
    "    Senior_Citizen INT,\n",
    "    Age_Not_Stated INT,\n",
    "    PRIMARY KEY (District)\n",
    ");\"\"\")\n"
   ]
  },
  {
   "cell_type": "code",
   "execution_count": 383,
   "metadata": {},
   "outputs": [
    {
     "name": "stdout",
     "output_type": "stream",
     "text": [
      "Query successful\n"
     ]
    }
   ],
   "source": [
    "execute_query(connection, \"\"\"CREATE TABLE IF NOT EXISTS housing(\n",
    "District VARCHAR(255),\n",
    "    Households_Rural INT,\n",
    "    Households_Rural_Livable INT,\n",
    "    Households_Rural_Dilapidated INT,\n",
    "    Households_Rural_Toilet_Premise INT,\n",
    "    Households_Urban INT,\n",
    "    Households_Urban_Livable INT,\n",
    "    Households_Urban_Dilapidated INT,\n",
    "    Households_Urban_Toilet_Premise INT,\n",
    "    PRIMARY KEY (District),\n",
    "    FOREIGN KEY (District) REFERENCES census(District)\n",
    ");\n",
    "\"\"\")"
   ]
  },
  {
   "cell_type": "code",
   "execution_count": 384,
   "metadata": {},
   "outputs": [
    {
     "name": "stdout",
     "output_type": "stream",
     "text": [
      "Query successful\n"
     ]
    }
   ],
   "source": [
    "execute_query(connection, \"\"\"\n",
    "              CREATE TABLE IF NOT EXISTS all_hospitals(\n",
    "    State_UT VARCHAR(255),\n",
    "    Number_of_Primary_Health_Centers_PHCs INT,\n",
    "    Community_Health_Centers_CHCs INT,\n",
    "    Sub_District_Divisional_Hospitals_SDHs INT,\n",
    "    District_Hospitals_DHs INT,\n",
    "    Hospitals INT,\n",
    "    HospitalBeds INT,\n",
    "    PRIMARY KEY (State_UT)\n",
    ");\n",
    "\"\"\")"
   ]
  },
  {
   "cell_type": "code",
   "execution_count": 385,
   "metadata": {},
   "outputs": [
    {
     "name": "stdout",
     "output_type": "stream",
     "text": [
      "Query successful\n"
     ]
    }
   ],
   "source": [
    "execute_query(connection,\"\"\" CREATE TABLE IF NOT EXISTS government_hospital (\n",
    "    State_UT VARCHAR(255),\n",
    "    Rural_Government_Hospitals INT,\n",
    "    Rural_Government_Beds INT,\n",
    "    Urban_Government_Hospitals INT,\n",
    "    Urban_Government_Beds INT,\n",
    "    Last_Updated DATE,\n",
    "    PRIMARY KEY (State_UT),\n",
    "    FOREIGN KEY (State_UT) REFERENCES all_hospitals(State_UT)\n",
    ");\"\"\")"
   ]
  },
  {
   "cell_type": "markdown",
   "metadata": {},
   "source": [
    "## Problem Statement 19: "
   ]
  },
  {
   "cell_type": "code",
   "execution_count": 386,
   "metadata": {},
   "outputs": [
    {
     "data": {
      "text/html": [
       "<div>\n",
       "<style scoped>\n",
       "    .dataframe tbody tr th:only-of-type {\n",
       "        vertical-align: middle;\n",
       "    }\n",
       "\n",
       "    .dataframe tbody tr th {\n",
       "        vertical-align: top;\n",
       "    }\n",
       "\n",
       "    .dataframe thead th {\n",
       "        text-align: right;\n",
       "    }\n",
       "</style>\n",
       "<table border=\"1\" class=\"dataframe\">\n",
       "  <thead>\n",
       "    <tr style=\"text-align: right;\">\n",
       "      <th></th>\n",
       "      <th>District</th>\n",
       "      <th>State_UT</th>\n",
       "      <th>Population</th>\n",
       "      <th>Male</th>\n",
       "      <th>Female</th>\n",
       "      <th>Literate</th>\n",
       "      <th>Literate_Male</th>\n",
       "      <th>Literate_Female</th>\n",
       "      <th>Households_Rural</th>\n",
       "      <th>Households_Urban</th>\n",
       "      <th>...</th>\n",
       "      <th>Sub_District_Divisional_Hospitals_SDHs</th>\n",
       "      <th>District_Hospitals_DHs</th>\n",
       "      <th>Hospitals</th>\n",
       "      <th>HospitalBeds</th>\n",
       "      <th>State_UT</th>\n",
       "      <th>Rural_Government_Hospitals</th>\n",
       "      <th>Rural_Government_Beds</th>\n",
       "      <th>Urban_Government_Hospitals</th>\n",
       "      <th>Urban_Government_Beds</th>\n",
       "      <th>Last_Updated</th>\n",
       "    </tr>\n",
       "  </thead>\n",
       "  <tbody>\n",
       "    <tr>\n",
       "      <th>0</th>\n",
       "      <td>Ahmadabad</td>\n",
       "      <td>Gujarat</td>\n",
       "      <td>7214225</td>\n",
       "      <td>3788051</td>\n",
       "      <td>3426174</td>\n",
       "      <td>5435760</td>\n",
       "      <td>3025463</td>\n",
       "      <td>2410297</td>\n",
       "      <td>353169</td>\n",
       "      <td>1845383</td>\n",
       "      <td>...</td>\n",
       "      <td>44</td>\n",
       "      <td>37</td>\n",
       "      <td>2236</td>\n",
       "      <td>41129</td>\n",
       "      <td>Gujarat</td>\n",
       "      <td>364</td>\n",
       "      <td>11715</td>\n",
       "      <td>122</td>\n",
       "      <td>20565</td>\n",
       "      <td>2016-12-31</td>\n",
       "    </tr>\n",
       "    <tr>\n",
       "      <th>1</th>\n",
       "      <td>Ahmadnagar</td>\n",
       "      <td>Maharashtra</td>\n",
       "      <td>4543159</td>\n",
       "      <td>2342825</td>\n",
       "      <td>2200334</td>\n",
       "      <td>3151890</td>\n",
       "      <td>1773355</td>\n",
       "      <td>1378535</td>\n",
       "      <td>1041393</td>\n",
       "      <td>282011</td>\n",
       "      <td>...</td>\n",
       "      <td>101</td>\n",
       "      <td>70</td>\n",
       "      <td>3239</td>\n",
       "      <td>68998</td>\n",
       "      <td>Maharashtra</td>\n",
       "      <td>273</td>\n",
       "      <td>12398</td>\n",
       "      <td>438</td>\n",
       "      <td>39048</td>\n",
       "      <td>2015-12-31</td>\n",
       "    </tr>\n",
       "    <tr>\n",
       "      <th>2</th>\n",
       "      <td>Ajmer</td>\n",
       "      <td>Rajasthan</td>\n",
       "      <td>2583052</td>\n",
       "      <td>1324085</td>\n",
       "      <td>1258967</td>\n",
       "      <td>1526673</td>\n",
       "      <td>926268</td>\n",
       "      <td>600405</td>\n",
       "      <td>409335</td>\n",
       "      <td>274919</td>\n",
       "      <td>...</td>\n",
       "      <td>64</td>\n",
       "      <td>33</td>\n",
       "      <td>3139</td>\n",
       "      <td>51844</td>\n",
       "      <td>Rajasthan</td>\n",
       "      <td>602</td>\n",
       "      <td>21088</td>\n",
       "      <td>150</td>\n",
       "      <td>10760</td>\n",
       "      <td>2016-12-31</td>\n",
       "    </tr>\n",
       "  </tbody>\n",
       "</table>\n",
       "<p>3 rows × 37 columns</p>\n",
       "</div>"
      ],
      "text/plain": [
       "     District     State_UT  Population     Male   Female  Literate  \\\n",
       "0   Ahmadabad      Gujarat     7214225  3788051  3426174   5435760   \n",
       "1  Ahmadnagar  Maharashtra     4543159  2342825  2200334   3151890   \n",
       "2       Ajmer    Rajasthan     2583052  1324085  1258967   1526673   \n",
       "\n",
       "   Literate_Male  Literate_Female  Households_Rural  Households_Urban  ...  \\\n",
       "0        3025463          2410297            353169           1845383  ...   \n",
       "1        1773355          1378535           1041393            282011  ...   \n",
       "2         926268           600405            409335            274919  ...   \n",
       "\n",
       "   Sub_District_Divisional_Hospitals_SDHs  District_Hospitals_DHs  Hospitals  \\\n",
       "0                                      44                      37       2236   \n",
       "1                                     101                      70       3239   \n",
       "2                                      64                      33       3139   \n",
       "\n",
       "   HospitalBeds     State_UT Rural_Government_Hospitals  \\\n",
       "0         41129      Gujarat                        364   \n",
       "1         68998  Maharashtra                        273   \n",
       "2         51844    Rajasthan                        602   \n",
       "\n",
       "   Rural_Government_Beds  Urban_Government_Hospitals  Urban_Government_Beds  \\\n",
       "0                  11715                         122                  20565   \n",
       "1                  12398                         438                  39048   \n",
       "2                  21088                         150                  10760   \n",
       "\n",
       "   Last_Updated  \n",
       "0    2016-12-31  \n",
       "1    2015-12-31  \n",
       "2    2016-12-31  \n",
       "\n",
       "[3 rows x 37 columns]"
      ]
     },
     "execution_count": 386,
     "metadata": {},
     "output_type": "execute_result"
    }
   ],
   "source": [
    "run_query(connection, \"\"\"SELECT *\n",
    "FROM census\n",
    "INNER JOIN housing ON census.District = housing.District\n",
    "INNER JOIN all_hospitals ON census.`State_UT` = all_hospitals.`State_UT`\n",
    "INNER JOIN government_hospital ON all_hospitals.`State_UT` = government_hospital.`State_UT`\n",
    "LIMIT 3\"\"\")"
   ]
  },
  {
   "cell_type": "markdown",
   "metadata": {},
   "source": [
    "## Problem Statement 21"
   ]
  },
  {
   "cell_type": "code",
   "execution_count": 387,
   "metadata": {},
   "outputs": [
    {
     "name": "stdout",
     "output_type": "stream",
     "text": [
      "Query successful\n"
     ]
    }
   ],
   "source": [
    "execute_query(connection, \"\"\"\n",
    "              DROP FUNCTION IF EXISTS get_population_district;\n",
    "              \"\"\")"
   ]
  },
  {
   "cell_type": "code",
   "execution_count": 388,
   "metadata": {},
   "outputs": [
    {
     "name": "stdout",
     "output_type": "stream",
     "text": [
      "Query successful\n"
     ]
    }
   ],
   "source": [
    "execute_query(connection, \"\"\"\n",
    "              CREATE FUNCTION IF NOT EXISTS get_population_district(district_name TEXT)\n",
    "              RETURNS INT\n",
    "              DETERMINISTIC\n",
    "              BEGIN\n",
    "              DECLARE result INT;\n",
    "              SELECT Population INTO result FROM census WHERE District = district_name;\n",
    "              RETURN result;\n",
    "              END;\n",
    "              \"\"\")"
   ]
  },
  {
   "cell_type": "code",
   "execution_count": 389,
   "metadata": {},
   "outputs": [
    {
     "data": {
      "text/html": [
       "<div>\n",
       "<style scoped>\n",
       "    .dataframe tbody tr th:only-of-type {\n",
       "        vertical-align: middle;\n",
       "    }\n",
       "\n",
       "    .dataframe tbody tr th {\n",
       "        vertical-align: top;\n",
       "    }\n",
       "\n",
       "    .dataframe thead th {\n",
       "        text-align: right;\n",
       "    }\n",
       "</style>\n",
       "<table border=\"1\" class=\"dataframe\">\n",
       "  <thead>\n",
       "    <tr style=\"text-align: right;\">\n",
       "      <th></th>\n",
       "      <th>get_population_district('Ahmadabad')</th>\n",
       "    </tr>\n",
       "  </thead>\n",
       "  <tbody>\n",
       "    <tr>\n",
       "      <th>0</th>\n",
       "      <td>7214225</td>\n",
       "    </tr>\n",
       "  </tbody>\n",
       "</table>\n",
       "</div>"
      ],
      "text/plain": [
       "   get_population_district('Ahmadabad')\n",
       "0                               7214225"
      ]
     },
     "execution_count": 389,
     "metadata": {},
     "output_type": "execute_result"
    }
   ],
   "source": [
    "run_query(connection, \"SELECT get_population_district('Ahmadabad')\")"
   ]
  },
  {
   "cell_type": "code",
   "execution_count": 390,
   "metadata": {},
   "outputs": [
    {
     "name": "stdout",
     "output_type": "stream",
     "text": [
      "Query successful\n"
     ]
    }
   ],
   "source": [
    "execute_query(connection, \"\"\"\n",
    "              DROP FUNCTION IF EXISTS get_population_state;\n",
    "              \"\"\")"
   ]
  },
  {
   "cell_type": "code",
   "execution_count": 391,
   "metadata": {},
   "outputs": [
    {
     "name": "stdout",
     "output_type": "stream",
     "text": [
      "Query successful\n"
     ]
    }
   ],
   "source": [
    "execute_query(connection,\"\"\"\n",
    "              CREATE FUNCTION IF NOT EXISTS get_population_state(state_name TEXT)\n",
    "RETURNS INT\n",
    "DETERMINISTIC\n",
    "BEGIN\n",
    "    DECLARE result INT;\n",
    "    SELECT SUM(Population) INTO result\n",
    "    FROM census\n",
    "    WHERE State_UT = state_name\n",
    "    GROUP BY State_UT;\n",
    "    RETURN COALESCE(result, 0);\n",
    "END;\n",
    "              \"\"\")"
   ]
  },
  {
   "cell_type": "code",
   "execution_count": 392,
   "metadata": {},
   "outputs": [
    {
     "data": {
      "text/html": [
       "<div>\n",
       "<style scoped>\n",
       "    .dataframe tbody tr th:only-of-type {\n",
       "        vertical-align: middle;\n",
       "    }\n",
       "\n",
       "    .dataframe tbody tr th {\n",
       "        vertical-align: top;\n",
       "    }\n",
       "\n",
       "    .dataframe thead th {\n",
       "        text-align: right;\n",
       "    }\n",
       "</style>\n",
       "<table border=\"1\" class=\"dataframe\">\n",
       "  <thead>\n",
       "    <tr style=\"text-align: right;\">\n",
       "      <th></th>\n",
       "      <th>get_population_state('Gujarat')</th>\n",
       "    </tr>\n",
       "  </thead>\n",
       "  <tbody>\n",
       "    <tr>\n",
       "      <th>0</th>\n",
       "      <td>58404628</td>\n",
       "    </tr>\n",
       "  </tbody>\n",
       "</table>\n",
       "</div>"
      ],
      "text/plain": [
       "   get_population_state('Gujarat')\n",
       "0                         58404628"
      ]
     },
     "execution_count": 392,
     "metadata": {},
     "output_type": "execute_result"
    }
   ],
   "source": [
    "run_query(connection, \"SELECT get_population_state('Gujarat');\")"
   ]
  },
  {
   "cell_type": "code",
   "execution_count": 393,
   "metadata": {},
   "outputs": [
    {
     "name": "stdout",
     "output_type": "stream",
     "text": [
      "Query successful\n"
     ]
    }
   ],
   "source": [
    "execute_query(connection, \"\"\"\n",
    "              DROP FUNCTION IF EXISTS senior_citizen_population;\n",
    "              \"\"\")"
   ]
  },
  {
   "cell_type": "code",
   "execution_count": 394,
   "metadata": {},
   "outputs": [
    {
     "name": "stdout",
     "output_type": "stream",
     "text": [
      "Query successful\n"
     ]
    }
   ],
   "source": [
    "execute_query(connection, \"\"\"\n",
    "              CREATE FUNCTION IF NOT EXISTS senior_citizen_population(district_name TEXT)\n",
    "              RETURNS INT\n",
    "              DETERMINISTIC\n",
    "              BEGIN\n",
    "              DECLARE result INT;\n",
    "              SELECT SUM(Senior_Citizen) INTO result FROM census WHERE District = district_name;\n",
    "              RETURN result;\n",
    "              END;\n",
    "              \"\"\")"
   ]
  },
  {
   "cell_type": "code",
   "execution_count": 395,
   "metadata": {},
   "outputs": [
    {
     "data": {
      "text/html": [
       "<div>\n",
       "<style scoped>\n",
       "    .dataframe tbody tr th:only-of-type {\n",
       "        vertical-align: middle;\n",
       "    }\n",
       "\n",
       "    .dataframe tbody tr th {\n",
       "        vertical-align: top;\n",
       "    }\n",
       "\n",
       "    .dataframe thead th {\n",
       "        text-align: right;\n",
       "    }\n",
       "</style>\n",
       "<table border=\"1\" class=\"dataframe\">\n",
       "  <thead>\n",
       "    <tr style=\"text-align: right;\">\n",
       "      <th></th>\n",
       "      <th>senior_citizen_population('Ahmadabad')</th>\n",
       "    </tr>\n",
       "  </thead>\n",
       "  <tbody>\n",
       "    <tr>\n",
       "      <th>0</th>\n",
       "      <td>1198152</td>\n",
       "    </tr>\n",
       "  </tbody>\n",
       "</table>\n",
       "</div>"
      ],
      "text/plain": [
       "   senior_citizen_population('Ahmadabad')\n",
       "0                                 1198152"
      ]
     },
     "execution_count": 395,
     "metadata": {},
     "output_type": "execute_result"
    }
   ],
   "source": [
    "run_query(connection, \"SELECT senior_citizen_population('Ahmadabad')\")"
   ]
  },
  {
   "cell_type": "code",
   "execution_count": 396,
   "metadata": {},
   "outputs": [
    {
     "name": "stdout",
     "output_type": "stream",
     "text": [
      "Query successful\n"
     ]
    }
   ],
   "source": [
    "execute_query(connection, \"\"\"\n",
    "              DROP FUNCTION IF EXISTS get_hospital_beds;\n",
    "              \"\"\")"
   ]
  },
  {
   "cell_type": "code",
   "execution_count": 397,
   "metadata": {},
   "outputs": [
    {
     "name": "stdout",
     "output_type": "stream",
     "text": [
      "Query successful\n"
     ]
    }
   ],
   "source": [
    "execute_query(connection, \"\"\"\n",
    "              CREATE FUNCTION IF NOT EXISTS get_hospital_beds(state_name TEXT)\n",
    "              RETURNS INT\n",
    "              DETERMINISTIC\n",
    "              BEGIN\n",
    "              DECLARE result INT;\n",
    "              SELECT HospitalBeds INTO result FROM all_hospitals WHERE State_UT = state_name;\n",
    "              RETURN result;\n",
    "              END;\n",
    "              \"\"\")"
   ]
  },
  {
   "cell_type": "code",
   "execution_count": 398,
   "metadata": {},
   "outputs": [
    {
     "data": {
      "text/html": [
       "<div>\n",
       "<style scoped>\n",
       "    .dataframe tbody tr th:only-of-type {\n",
       "        vertical-align: middle;\n",
       "    }\n",
       "\n",
       "    .dataframe tbody tr th {\n",
       "        vertical-align: top;\n",
       "    }\n",
       "\n",
       "    .dataframe thead th {\n",
       "        text-align: right;\n",
       "    }\n",
       "</style>\n",
       "<table border=\"1\" class=\"dataframe\">\n",
       "  <thead>\n",
       "    <tr style=\"text-align: right;\">\n",
       "      <th></th>\n",
       "      <th>get_hospital_beds('Gujarat')</th>\n",
       "    </tr>\n",
       "  </thead>\n",
       "  <tbody>\n",
       "    <tr>\n",
       "      <th>0</th>\n",
       "      <td>41129</td>\n",
       "    </tr>\n",
       "  </tbody>\n",
       "</table>\n",
       "</div>"
      ],
      "text/plain": [
       "   get_hospital_beds('Gujarat')\n",
       "0                         41129"
      ]
     },
     "execution_count": 398,
     "metadata": {},
     "output_type": "execute_result"
    }
   ],
   "source": [
    "run_query(connection, \"SELECT get_hospital_beds('Gujarat');\")"
   ]
  },
  {
   "cell_type": "code",
   "execution_count": 399,
   "metadata": {},
   "outputs": [
    {
     "name": "stdout",
     "output_type": "stream",
     "text": [
      "Query successful\n"
     ]
    }
   ],
   "source": [
    "execute_query(connection, \"DROP FUNCTION IF EXISTS get_govt_hospital_beds;\")"
   ]
  },
  {
   "cell_type": "code",
   "execution_count": 400,
   "metadata": {},
   "outputs": [
    {
     "name": "stdout",
     "output_type": "stream",
     "text": [
      "Query successful\n"
     ]
    }
   ],
   "source": [
    "execute_query(connection, \"\"\"\n",
    "              CREATE FUNCTION IF NOT EXISTS get_govt_hospital_beds(state_name TEXT)\n",
    "              RETURNS INT\n",
    "              DETERMINISTIC\n",
    "              BEGIN\n",
    "              DECLARE result INT;\n",
    "              SELECT Urban_Government_Beds+Rural_Government_Beds INTO result FROM government_hospital WHERE State_UT = state_name;\n",
    "              RETURN result;\n",
    "              END;\n",
    "              \"\"\")"
   ]
  },
  {
   "cell_type": "code",
   "execution_count": 401,
   "metadata": {},
   "outputs": [
    {
     "data": {
      "text/html": [
       "<div>\n",
       "<style scoped>\n",
       "    .dataframe tbody tr th:only-of-type {\n",
       "        vertical-align: middle;\n",
       "    }\n",
       "\n",
       "    .dataframe tbody tr th {\n",
       "        vertical-align: top;\n",
       "    }\n",
       "\n",
       "    .dataframe thead th {\n",
       "        text-align: right;\n",
       "    }\n",
       "</style>\n",
       "<table border=\"1\" class=\"dataframe\">\n",
       "  <thead>\n",
       "    <tr style=\"text-align: right;\">\n",
       "      <th></th>\n",
       "      <th>get_govt_hospital_beds('Gujarat')</th>\n",
       "    </tr>\n",
       "  </thead>\n",
       "  <tbody>\n",
       "    <tr>\n",
       "      <th>0</th>\n",
       "      <td>32280</td>\n",
       "    </tr>\n",
       "  </tbody>\n",
       "</table>\n",
       "</div>"
      ],
      "text/plain": [
       "   get_govt_hospital_beds('Gujarat')\n",
       "0                              32280"
      ]
     },
     "execution_count": 401,
     "metadata": {},
     "output_type": "execute_result"
    }
   ],
   "source": [
    "run_query(connection, \"SELECT get_govt_hospital_beds('Gujarat');\")"
   ]
  },
  {
   "cell_type": "code",
   "execution_count": 402,
   "metadata": {},
   "outputs": [
    {
     "name": "stdout",
     "output_type": "stream",
     "text": [
      "Query successful\n"
     ]
    }
   ],
   "source": [
    "execute_query(connection, \"DROP FUNCTION IF EXISTS beds_per_lakh;\")"
   ]
  },
  {
   "cell_type": "code",
   "execution_count": 403,
   "metadata": {},
   "outputs": [
    {
     "name": "stdout",
     "output_type": "stream",
     "text": [
      "Query successful\n"
     ]
    }
   ],
   "source": [
    "execute_query(connection, \"\"\"\n",
    "              CREATE FUNCTION IF NOT EXISTS beds_per_lakh(state_name TEXT)\n",
    "              RETURNS FLOAT\n",
    "              DETERMINISTIC\n",
    "              BEGIN\n",
    "              DECLARE result FLOAT;\n",
    "              SELECT (get_hospital_beds(state_name)/(get_population_state(state_name))*100000) INTO result;\n",
    "              RETURN result;\n",
    "              END;\n",
    "              \"\"\")"
   ]
  },
  {
   "cell_type": "code",
   "execution_count": 404,
   "metadata": {},
   "outputs": [
    {
     "data": {
      "text/html": [
       "<div>\n",
       "<style scoped>\n",
       "    .dataframe tbody tr th:only-of-type {\n",
       "        vertical-align: middle;\n",
       "    }\n",
       "\n",
       "    .dataframe tbody tr th {\n",
       "        vertical-align: top;\n",
       "    }\n",
       "\n",
       "    .dataframe thead th {\n",
       "        text-align: right;\n",
       "    }\n",
       "</style>\n",
       "<table border=\"1\" class=\"dataframe\">\n",
       "  <thead>\n",
       "    <tr style=\"text-align: right;\">\n",
       "      <th></th>\n",
       "      <th>beds_per_lakh('Gujarat')</th>\n",
       "    </tr>\n",
       "  </thead>\n",
       "  <tbody>\n",
       "    <tr>\n",
       "      <th>0</th>\n",
       "      <td>70.4207</td>\n",
       "    </tr>\n",
       "  </tbody>\n",
       "</table>\n",
       "</div>"
      ],
      "text/plain": [
       "   beds_per_lakh('Gujarat')\n",
       "0                   70.4207"
      ]
     },
     "execution_count": 404,
     "metadata": {},
     "output_type": "execute_result"
    }
   ],
   "source": [
    "run_query(connection, \"SELECT beds_per_lakh('Gujarat');\")"
   ]
  },
  {
   "cell_type": "code",
   "execution_count": 405,
   "metadata": {},
   "outputs": [
    {
     "name": "stdout",
     "output_type": "stream",
     "text": [
      "Query successful\n"
     ]
    }
   ],
   "source": [
    "execute_query(connection, \"DROP FUNCTION IF EXISTS govt_beds_per_lakh;\")"
   ]
  },
  {
   "cell_type": "code",
   "execution_count": 406,
   "metadata": {},
   "outputs": [
    {
     "name": "stdout",
     "output_type": "stream",
     "text": [
      "Query successful\n"
     ]
    }
   ],
   "source": [
    "execute_query(connection, \"\"\"\n",
    "              CREATE FUNCTION IF NOT EXISTS govt_beds_per_lakh(state_name TEXT)\n",
    "              RETURNS FLOAT\n",
    "              DETERMINISTIC\n",
    "              BEGIN\n",
    "              DECLARE result FLOAT;\n",
    "              SELECT (get_govt_hospital_beds(state_name)/(get_population_state(state_name))*100000) INTO result;\n",
    "              RETURN result;\n",
    "              END;\n",
    "              \"\"\")"
   ]
  },
  {
   "cell_type": "code",
   "execution_count": 407,
   "metadata": {},
   "outputs": [
    {
     "data": {
      "text/html": [
       "<div>\n",
       "<style scoped>\n",
       "    .dataframe tbody tr th:only-of-type {\n",
       "        vertical-align: middle;\n",
       "    }\n",
       "\n",
       "    .dataframe tbody tr th {\n",
       "        vertical-align: top;\n",
       "    }\n",
       "\n",
       "    .dataframe thead th {\n",
       "        text-align: right;\n",
       "    }\n",
       "</style>\n",
       "<table border=\"1\" class=\"dataframe\">\n",
       "  <thead>\n",
       "    <tr style=\"text-align: right;\">\n",
       "      <th></th>\n",
       "      <th>govt_beds_per_lakh('Gujarat')</th>\n",
       "    </tr>\n",
       "  </thead>\n",
       "  <tbody>\n",
       "    <tr>\n",
       "      <th>0</th>\n",
       "      <td>55.2695</td>\n",
       "    </tr>\n",
       "  </tbody>\n",
       "</table>\n",
       "</div>"
      ],
      "text/plain": [
       "   govt_beds_per_lakh('Gujarat')\n",
       "0                        55.2695"
      ]
     },
     "execution_count": 407,
     "metadata": {},
     "output_type": "execute_result"
    }
   ],
   "source": [
    "run_query(connection, \"SELECT govt_beds_per_lakh('Gujarat');\")"
   ]
  },
  {
   "cell_type": "code",
   "execution_count": null,
   "metadata": {},
   "outputs": [],
   "source": []
  }
 ],
 "metadata": {
  "kernelspec": {
   "display_name": ".venv",
   "language": "python",
   "name": "python3"
  },
  "language_info": {
   "codemirror_mode": {
    "name": "ipython",
    "version": 3
   },
   "file_extension": ".py",
   "mimetype": "text/x-python",
   "name": "python",
   "nbconvert_exporter": "python",
   "pygments_lexer": "ipython3",
   "version": "3.11.6"
  }
 },
 "nbformat": 4,
 "nbformat_minor": 2
}
