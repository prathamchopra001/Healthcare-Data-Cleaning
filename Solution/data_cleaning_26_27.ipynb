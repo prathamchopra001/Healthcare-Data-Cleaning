{
 "cells": [
  {
   "cell_type": "code",
   "execution_count": 13,
   "metadata": {},
   "outputs": [],
   "source": [
    "import mysql.connector as sql\n",
    "import pandas as pd\n",
    "from mysql.connector import Error"
   ]
  },
  {
   "cell_type": "code",
   "execution_count": 14,
   "metadata": {},
   "outputs": [
    {
     "name": "stdout",
     "output_type": "stream",
     "text": [
      "MySQL Database connection successful\n"
     ]
    }
   ],
   "source": [
    "def create_server_connection(host_name, user_name, user_password):\n",
    "    connection = None\n",
    "    try:\n",
    "        connection = sql.connect(host=host_name, user=user_name, passwd=user_password)\n",
    "        print(\"MySQL Database connection successful\")\n",
    "    except Error as err:\n",
    "        print(f\"The error '{err}' occurred\")\n",
    "\n",
    "    return connection\n",
    "\n",
    "pw = \"Pratham123***\"\n",
    "connection = create_server_connection(\"localhost\", \"root\", pw)"
   ]
  },
  {
   "cell_type": "code",
   "execution_count": 15,
   "metadata": {},
   "outputs": [
    {
     "name": "stdout",
     "output_type": "stream",
     "text": [
      "MySQL Database connection successful\n"
     ]
    }
   ],
   "source": [
    "def create_db_connection(host_name, user_name, user_password, db_name):\n",
    "    connection = None\n",
    "    try:\n",
    "        connection = sql.connect(host=host_name, user=user_name, passwd=user_password, database=db_name)\n",
    "        print(\"MySQL Database connection successful\")\n",
    "    except Error as err:\n",
    "        print(f\"The error '{err}' occurred\")\n",
    "\n",
    "    return connection\n",
    "\n",
    "connection = create_db_connection(\"localhost\", \"root\", pw, \"healthcare_db\")"
   ]
  },
  {
   "cell_type": "code",
   "execution_count": 16,
   "metadata": {},
   "outputs": [],
   "source": [
    "def execute_query(connection, query):\n",
    "    cursor = connection.cursor()\n",
    "    try:\n",
    "        cursor.execute(query)\n",
    "        connection.commit()\n",
    "        print(\"Query successful\")\n",
    "    except Error as err:\n",
    "        print(f\"The error '{err}' occurred\")"
   ]
  },
  {
   "cell_type": "code",
   "execution_count": 17,
   "metadata": {},
   "outputs": [],
   "source": [
    "def run_query(connection, query):\n",
    "    cursor = connection.cursor()\n",
    "    result = None\n",
    "    try:\n",
    "        cursor.execute(query)\n",
    "        result = cursor.fetchall()\n",
    "        columns = [column[0] for column in cursor.description]\n",
    "        df = pd.DataFrame(result, columns=columns)\n",
    "        return df\n",
    "    except Error as err:\n",
    "        print(f\"The error '{err}' occurred\")"
   ]
  },
  {
   "cell_type": "code",
   "execution_count": 18,
   "metadata": {},
   "outputs": [
    {
     "name": "stdout",
     "output_type": "stream",
     "text": [
      "Query successful\n"
     ]
    }
   ],
   "source": [
    "execute_query(connection, \"DROP DATABASE IF EXISTS healthcare\")"
   ]
  },
  {
   "cell_type": "markdown",
   "metadata": {},
   "source": [
    "## Problem Statement 26:"
   ]
  },
  {
   "cell_type": "code",
   "execution_count": 19,
   "metadata": {},
   "outputs": [
    {
     "name": "stdout",
     "output_type": "stream",
     "text": [
      "Query successful\n"
     ]
    }
   ],
   "source": [
    "execute_query(connection,\"\"\"\n",
    "            CREATE TABLE IF NOT EXISTS hospital_log (\n",
    "    district VARCHAR(255),\n",
    "    location VARCHAR(10),\n",
    "    operation VARCHAR(10),\n",
    "    operation_date DATE,\n",
    "    is_government_hospital BOOLEAN\n",
    ");\"\"\")"
   ]
  },
  {
   "cell_type": "code",
   "execution_count": 20,
   "metadata": {},
   "outputs": [
    {
     "name": "stdout",
     "output_type": "stream",
     "text": [
      "Query successful\n"
     ]
    }
   ],
   "source": [
    "execute_query(connection,\"\"\"\n",
    "              DROP TRIGGER IF EXISTS all_hospitals_log_insert;              \n",
    "              \"\"\")"
   ]
  },
  {
   "cell_type": "code",
   "execution_count": 21,
   "metadata": {},
   "outputs": [
    {
     "name": "stdout",
     "output_type": "stream",
     "text": [
      "Query successful\n"
     ]
    }
   ],
   "source": [
    "execute_query(connection,\"\"\"DROP TRIGGER IF EXISTS all_hospitals_log_delete;\"\"\")"
   ]
  },
  {
   "cell_type": "code",
   "execution_count": 22,
   "metadata": {},
   "outputs": [
    {
     "name": "stdout",
     "output_type": "stream",
     "text": [
      "Query successful\n"
     ]
    }
   ],
   "source": [
    "execute_query(connection,\"\"\"\n",
    "              CREATE TRIGGER all_hospitals_log_insert\n",
    "AFTER INSERT ON all_hospitals\n",
    "FOR EACH ROW\n",
    "INSERT INTO hospital_log (district, location, operation, operation_date, is_government_hospital)\n",
    "VALUES (NEW.State_UT, 'Urban', 'INSERT', CURRENT_DATE, FALSE);\"\"\")"
   ]
  },
  {
   "cell_type": "code",
   "execution_count": 23,
   "metadata": {},
   "outputs": [
    {
     "name": "stdout",
     "output_type": "stream",
     "text": [
      "Query successful\n"
     ]
    }
   ],
   "source": [
    "execute_query(connection,\"\"\"\n",
    "              CREATE TRIGGER all_hospitals_log_delete\n",
    "AFTER DELETE ON all_hospitals\n",
    "FOR EACH ROW\n",
    "INSERT INTO hospital_log (district, location, operation, operation_date, is_government_hospital)\n",
    "VALUES (OLD.State_UT, 'Urban', 'DELETE', CURRENT_DATE, FALSE);\"\"\")"
   ]
  },
  {
   "cell_type": "code",
   "execution_count": 24,
   "metadata": {},
   "outputs": [
    {
     "data": {
      "text/html": [
       "<div>\n",
       "<style scoped>\n",
       "    .dataframe tbody tr th:only-of-type {\n",
       "        vertical-align: middle;\n",
       "    }\n",
       "\n",
       "    .dataframe tbody tr th {\n",
       "        vertical-align: top;\n",
       "    }\n",
       "\n",
       "    .dataframe thead th {\n",
       "        text-align: right;\n",
       "    }\n",
       "</style>\n",
       "<table border=\"1\" class=\"dataframe\">\n",
       "  <thead>\n",
       "    <tr style=\"text-align: right;\">\n",
       "      <th></th>\n",
       "      <th>Trigger</th>\n",
       "      <th>Event</th>\n",
       "      <th>Table</th>\n",
       "      <th>Statement</th>\n",
       "      <th>Timing</th>\n",
       "      <th>Created</th>\n",
       "      <th>sql_mode</th>\n",
       "      <th>Definer</th>\n",
       "      <th>character_set_client</th>\n",
       "      <th>collation_connection</th>\n",
       "      <th>Database Collation</th>\n",
       "    </tr>\n",
       "  </thead>\n",
       "  <tbody>\n",
       "    <tr>\n",
       "      <th>0</th>\n",
       "      <td>all_hospitals_log_insert</td>\n",
       "      <td>INSERT</td>\n",
       "      <td>all_hospitals</td>\n",
       "      <td>INSERT INTO hospital_log (district, location, ...</td>\n",
       "      <td>AFTER</td>\n",
       "      <td>2024-03-12 22:33:44.120</td>\n",
       "      <td>{ERROR_FOR_DIVISION_BY_ZERO, NO_ZERO_IN_DATE, ...</td>\n",
       "      <td>root@localhost</td>\n",
       "      <td>utf8mb4</td>\n",
       "      <td>utf8mb4_0900_ai_ci</td>\n",
       "      <td>utf8mb4_0900_ai_ci</td>\n",
       "    </tr>\n",
       "    <tr>\n",
       "      <th>1</th>\n",
       "      <td>all_hospitals_log_delete</td>\n",
       "      <td>DELETE</td>\n",
       "      <td>all_hospitals</td>\n",
       "      <td>INSERT INTO hospital_log (district, location, ...</td>\n",
       "      <td>AFTER</td>\n",
       "      <td>2024-03-12 22:33:44.140</td>\n",
       "      <td>{ERROR_FOR_DIVISION_BY_ZERO, NO_ZERO_IN_DATE, ...</td>\n",
       "      <td>root@localhost</td>\n",
       "      <td>utf8mb4</td>\n",
       "      <td>utf8mb4_0900_ai_ci</td>\n",
       "      <td>utf8mb4_0900_ai_ci</td>\n",
       "    </tr>\n",
       "  </tbody>\n",
       "</table>\n",
       "</div>"
      ],
      "text/plain": [
       "                    Trigger   Event          Table  \\\n",
       "0  all_hospitals_log_insert  INSERT  all_hospitals   \n",
       "1  all_hospitals_log_delete  DELETE  all_hospitals   \n",
       "\n",
       "                                           Statement Timing  \\\n",
       "0  INSERT INTO hospital_log (district, location, ...  AFTER   \n",
       "1  INSERT INTO hospital_log (district, location, ...  AFTER   \n",
       "\n",
       "                  Created                                           sql_mode  \\\n",
       "0 2024-03-12 22:33:44.120  {ERROR_FOR_DIVISION_BY_ZERO, NO_ZERO_IN_DATE, ...   \n",
       "1 2024-03-12 22:33:44.140  {ERROR_FOR_DIVISION_BY_ZERO, NO_ZERO_IN_DATE, ...   \n",
       "\n",
       "          Definer character_set_client collation_connection  \\\n",
       "0  root@localhost              utf8mb4   utf8mb4_0900_ai_ci   \n",
       "1  root@localhost              utf8mb4   utf8mb4_0900_ai_ci   \n",
       "\n",
       "   Database Collation  \n",
       "0  utf8mb4_0900_ai_ci  \n",
       "1  utf8mb4_0900_ai_ci  "
      ]
     },
     "execution_count": 24,
     "metadata": {},
     "output_type": "execute_result"
    }
   ],
   "source": [
    "run_query(connection, \"show triggers;\")"
   ]
  },
  {
   "cell_type": "code",
   "execution_count": null,
   "metadata": {},
   "outputs": [],
   "source": []
  }
 ],
 "metadata": {
  "kernelspec": {
   "display_name": ".venv",
   "language": "python",
   "name": "python3"
  },
  "language_info": {
   "codemirror_mode": {
    "name": "ipython",
    "version": 3
   },
   "file_extension": ".py",
   "mimetype": "text/x-python",
   "name": "python",
   "nbconvert_exporter": "python",
   "pygments_lexer": "ipython3",
   "version": "3.11.6"
  }
 },
 "nbformat": 4,
 "nbformat_minor": 2
}
