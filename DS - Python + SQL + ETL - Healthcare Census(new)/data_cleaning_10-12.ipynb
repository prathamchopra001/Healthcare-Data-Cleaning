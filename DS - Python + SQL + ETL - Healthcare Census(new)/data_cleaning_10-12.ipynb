{
 "cells": [
  {
   "cell_type": "code",
   "execution_count": 18,
   "metadata": {},
   "outputs": [],
   "source": [
    "import pandas as pd\n",
    "import matplotlib.pyplot as plt"
   ]
  },
  {
   "cell_type": "markdown",
   "metadata": {},
   "source": [
    "## Problem Statement 10: (Fix the header)"
   ]
  },
  {
   "cell_type": "code",
   "execution_count": 19,
   "metadata": {},
   "outputs": [
    {
     "data": {
      "text/html": [
       "<div>\n",
       "<style scoped>\n",
       "    .dataframe tbody tr th:only-of-type {\n",
       "        vertical-align: middle;\n",
       "    }\n",
       "\n",
       "    .dataframe tbody tr th {\n",
       "        vertical-align: top;\n",
       "    }\n",
       "\n",
       "    .dataframe thead th {\n",
       "        text-align: right;\n",
       "    }\n",
       "</style>\n",
       "<table border=\"1\" class=\"dataframe\">\n",
       "  <thead>\n",
       "    <tr style=\"text-align: right;\">\n",
       "      <th></th>\n",
       "      <th>Unnamed: 0</th>\n",
       "      <th>PHC</th>\n",
       "      <th>CHC</th>\n",
       "      <th>SDH</th>\n",
       "      <th>DH</th>\n",
       "      <th>Hospitals</th>\n",
       "      <th>HospitalBeds</th>\n",
       "    </tr>\n",
       "  </thead>\n",
       "  <tbody>\n",
       "    <tr>\n",
       "      <th>0</th>\n",
       "      <td>Andaman &amp; Nicobar Islands</td>\n",
       "      <td>27</td>\n",
       "      <td>4</td>\n",
       "      <td>NaN</td>\n",
       "      <td>3</td>\n",
       "      <td>34</td>\n",
       "      <td>1246</td>\n",
       "    </tr>\n",
       "    <tr>\n",
       "      <th>1</th>\n",
       "      <td>Andhra Pradesh</td>\n",
       "      <td>1417</td>\n",
       "      <td>198</td>\n",
       "      <td>31</td>\n",
       "      <td>20</td>\n",
       "      <td>1666</td>\n",
       "      <td>60799</td>\n",
       "    </tr>\n",
       "    <tr>\n",
       "      <th>2</th>\n",
       "      <td>Arunachal Pradesh</td>\n",
       "      <td>122</td>\n",
       "      <td>62</td>\n",
       "      <td>NaN</td>\n",
       "      <td>15</td>\n",
       "      <td>199</td>\n",
       "      <td>2320</td>\n",
       "    </tr>\n",
       "    <tr>\n",
       "      <th>3</th>\n",
       "      <td>Assam</td>\n",
       "      <td>1007</td>\n",
       "      <td>166</td>\n",
       "      <td>14</td>\n",
       "      <td>33</td>\n",
       "      <td>1220</td>\n",
       "      <td>19115</td>\n",
       "    </tr>\n",
       "    <tr>\n",
       "      <th>4</th>\n",
       "      <td>Bihar</td>\n",
       "      <td>2007</td>\n",
       "      <td>63</td>\n",
       "      <td>33</td>\n",
       "      <td>43</td>\n",
       "      <td>2146</td>\n",
       "      <td>17796</td>\n",
       "    </tr>\n",
       "  </tbody>\n",
       "</table>\n",
       "</div>"
      ],
      "text/plain": [
       "                  Unnamed: 0   PHC  CHC  SDH  DH Hospitals HospitalBeds\n",
       "0  Andaman & Nicobar Islands    27    4  NaN   3        34         1246\n",
       "1             Andhra Pradesh  1417  198   31  20      1666        60799\n",
       "2          Arunachal Pradesh   122   62  NaN  15       199         2320\n",
       "3                      Assam  1007  166   14  33      1220        19115\n",
       "4                      Bihar  2007   63   33  43      2146        17796"
      ]
     },
     "execution_count": 19,
     "metadata": {},
     "output_type": "execute_result"
    }
   ],
   "source": [
    "hospital_data = pd.read_csv('Data/hospitals.csv')\n",
    "metadata = pd.read_csv('Data/metadata.csv')\n",
    "hospital_data.head(5)"
   ]
  },
  {
   "cell_type": "code",
   "execution_count": 20,
   "metadata": {},
   "outputs": [
    {
     "data": {
      "text/html": [
       "<div>\n",
       "<style scoped>\n",
       "    .dataframe tbody tr th:only-of-type {\n",
       "        vertical-align: middle;\n",
       "    }\n",
       "\n",
       "    .dataframe tbody tr th {\n",
       "        vertical-align: top;\n",
       "    }\n",
       "\n",
       "    .dataframe thead th {\n",
       "        text-align: right;\n",
       "    }\n",
       "</style>\n",
       "<table border=\"1\" class=\"dataframe\">\n",
       "  <thead>\n",
       "    <tr style=\"text-align: right;\">\n",
       "      <th></th>\n",
       "      <th>Acronyms</th>\n",
       "    </tr>\n",
       "  </thead>\n",
       "  <tbody>\n",
       "    <tr>\n",
       "      <th>0</th>\n",
       "      <td>Number of Primary Health Centers(PHCs),</td>\n",
       "    </tr>\n",
       "    <tr>\n",
       "      <th>1</th>\n",
       "      <td>Community Health Centers(CHCs),</td>\n",
       "    </tr>\n",
       "    <tr>\n",
       "      <th>2</th>\n",
       "      <td>Sub-District/Divisional Hospitals(SDHs)</td>\n",
       "    </tr>\n",
       "    <tr>\n",
       "      <th>3</th>\n",
       "      <td>District Hospitals(DHs)</td>\n",
       "    </tr>\n",
       "  </tbody>\n",
       "</table>\n",
       "</div>"
      ],
      "text/plain": [
       "                                   Acronyms\n",
       "0  Number of Primary Health Centers(PHCs), \n",
       "1          Community Health Centers(CHCs), \n",
       "2   Sub-District/Divisional Hospitals(SDHs)\n",
       "3                  District Hospitals(DHs) "
      ]
     },
     "execution_count": 20,
     "metadata": {},
     "output_type": "execute_result"
    }
   ],
   "source": [
    "metadata"
   ]
  },
  {
   "cell_type": "code",
   "execution_count": 21,
   "metadata": {},
   "outputs": [
    {
     "data": {
      "text/html": [
       "<div>\n",
       "<style scoped>\n",
       "    .dataframe tbody tr th:only-of-type {\n",
       "        vertical-align: middle;\n",
       "    }\n",
       "\n",
       "    .dataframe tbody tr th {\n",
       "        vertical-align: top;\n",
       "    }\n",
       "\n",
       "    .dataframe thead th {\n",
       "        text-align: right;\n",
       "    }\n",
       "</style>\n",
       "<table border=\"1\" class=\"dataframe\">\n",
       "  <thead>\n",
       "    <tr style=\"text-align: right;\">\n",
       "      <th></th>\n",
       "      <th>State/UT</th>\n",
       "      <th>Number of Primary Health Centers(PHCs),</th>\n",
       "      <th>Community Health Centers(CHCs),</th>\n",
       "      <th>Sub-District/Divisional Hospitals(SDHs)</th>\n",
       "      <th>District Hospitals(DHs)</th>\n",
       "      <th>Hospitals</th>\n",
       "      <th>HospitalBeds</th>\n",
       "    </tr>\n",
       "  </thead>\n",
       "  <tbody>\n",
       "    <tr>\n",
       "      <th>0</th>\n",
       "      <td>Andaman &amp; Nicobar Islands</td>\n",
       "      <td>27</td>\n",
       "      <td>4</td>\n",
       "      <td>NaN</td>\n",
       "      <td>3</td>\n",
       "      <td>34</td>\n",
       "      <td>1246</td>\n",
       "    </tr>\n",
       "    <tr>\n",
       "      <th>1</th>\n",
       "      <td>Andhra Pradesh</td>\n",
       "      <td>1417</td>\n",
       "      <td>198</td>\n",
       "      <td>31</td>\n",
       "      <td>20</td>\n",
       "      <td>1666</td>\n",
       "      <td>60799</td>\n",
       "    </tr>\n",
       "    <tr>\n",
       "      <th>2</th>\n",
       "      <td>Arunachal Pradesh</td>\n",
       "      <td>122</td>\n",
       "      <td>62</td>\n",
       "      <td>NaN</td>\n",
       "      <td>15</td>\n",
       "      <td>199</td>\n",
       "      <td>2320</td>\n",
       "    </tr>\n",
       "    <tr>\n",
       "      <th>3</th>\n",
       "      <td>Assam</td>\n",
       "      <td>1007</td>\n",
       "      <td>166</td>\n",
       "      <td>14</td>\n",
       "      <td>33</td>\n",
       "      <td>1220</td>\n",
       "      <td>19115</td>\n",
       "    </tr>\n",
       "    <tr>\n",
       "      <th>4</th>\n",
       "      <td>Bihar</td>\n",
       "      <td>2007</td>\n",
       "      <td>63</td>\n",
       "      <td>33</td>\n",
       "      <td>43</td>\n",
       "      <td>2146</td>\n",
       "      <td>17796</td>\n",
       "    </tr>\n",
       "  </tbody>\n",
       "</table>\n",
       "</div>"
      ],
      "text/plain": [
       "                    State/UT Number of Primary Health Centers(PHCs),  \\\n",
       "0  Andaman & Nicobar Islands                                      27   \n",
       "1             Andhra Pradesh                                    1417   \n",
       "2          Arunachal Pradesh                                     122   \n",
       "3                      Assam                                    1007   \n",
       "4                      Bihar                                    2007   \n",
       "\n",
       "  Community Health Centers(CHCs), Sub-District/Divisional Hospitals(SDHs)  \\\n",
       "0                               4                                     NaN   \n",
       "1                             198                                      31   \n",
       "2                              62                                     NaN   \n",
       "3                             166                                      14   \n",
       "4                              63                                      33   \n",
       "\n",
       "  District Hospitals(DHs) Hospitals HospitalBeds  \n",
       "0                       3        34         1246  \n",
       "1                      20      1666        60799  \n",
       "2                      15       199         2320  \n",
       "3                      33      1220        19115  \n",
       "4                      43      2146        17796  "
      ]
     },
     "execution_count": 21,
     "metadata": {},
     "output_type": "execute_result"
    }
   ],
   "source": [
    "hospital_data.columns = ['State/UT', 'Number of Primary Health Centers(PHCs),', 'Community Health Centers(CHCs),', 'Sub-District/Divisional Hospitals(SDHs)', 'District Hospitals(DHs)', 'Hospitals', 'HospitalBeds']\n",
    "hospital_data.head(5)"
   ]
  },
  {
   "cell_type": "markdown",
   "metadata": {},
   "source": [
    "## Problem Statement 11: (Create a function to alter the data to create uniformity)"
   ]
  },
  {
   "cell_type": "code",
   "execution_count": 22,
   "metadata": {},
   "outputs": [
    {
     "data": {
      "text/html": [
       "<div>\n",
       "<style scoped>\n",
       "    .dataframe tbody tr th:only-of-type {\n",
       "        vertical-align: middle;\n",
       "    }\n",
       "\n",
       "    .dataframe tbody tr th {\n",
       "        vertical-align: top;\n",
       "    }\n",
       "\n",
       "    .dataframe thead th {\n",
       "        text-align: right;\n",
       "    }\n",
       "</style>\n",
       "<table border=\"1\" class=\"dataframe\">\n",
       "  <thead>\n",
       "    <tr style=\"text-align: right;\">\n",
       "      <th></th>\n",
       "      <th>State/UT</th>\n",
       "      <th>Number of Primary Health Centers(PHCs),</th>\n",
       "      <th>Community Health Centers(CHCs),</th>\n",
       "      <th>Sub-District/Divisional Hospitals(SDHs)</th>\n",
       "      <th>District Hospitals(DHs)</th>\n",
       "      <th>Hospitals</th>\n",
       "      <th>HospitalBeds</th>\n",
       "    </tr>\n",
       "  </thead>\n",
       "  <tbody>\n",
       "    <tr>\n",
       "      <th>0</th>\n",
       "      <td>Andaman and Nicobar Islands</td>\n",
       "      <td>27</td>\n",
       "      <td>4</td>\n",
       "      <td>NaN</td>\n",
       "      <td>3</td>\n",
       "      <td>34</td>\n",
       "      <td>1246</td>\n",
       "    </tr>\n",
       "    <tr>\n",
       "      <th>1</th>\n",
       "      <td>Andhra Pradesh</td>\n",
       "      <td>1417</td>\n",
       "      <td>198</td>\n",
       "      <td>31</td>\n",
       "      <td>20</td>\n",
       "      <td>1666</td>\n",
       "      <td>60799</td>\n",
       "    </tr>\n",
       "    <tr>\n",
       "      <th>2</th>\n",
       "      <td>Arunachal Pradesh</td>\n",
       "      <td>122</td>\n",
       "      <td>62</td>\n",
       "      <td>NaN</td>\n",
       "      <td>15</td>\n",
       "      <td>199</td>\n",
       "      <td>2320</td>\n",
       "    </tr>\n",
       "    <tr>\n",
       "      <th>3</th>\n",
       "      <td>Assam</td>\n",
       "      <td>1007</td>\n",
       "      <td>166</td>\n",
       "      <td>14</td>\n",
       "      <td>33</td>\n",
       "      <td>1220</td>\n",
       "      <td>19115</td>\n",
       "    </tr>\n",
       "    <tr>\n",
       "      <th>4</th>\n",
       "      <td>Bihar</td>\n",
       "      <td>2007</td>\n",
       "      <td>63</td>\n",
       "      <td>33</td>\n",
       "      <td>43</td>\n",
       "      <td>2146</td>\n",
       "      <td>17796</td>\n",
       "    </tr>\n",
       "  </tbody>\n",
       "</table>\n",
       "</div>"
      ],
      "text/plain": [
       "                      State/UT Number of Primary Health Centers(PHCs),  \\\n",
       "0  Andaman and Nicobar Islands                                      27   \n",
       "1               Andhra Pradesh                                    1417   \n",
       "2            Arunachal Pradesh                                     122   \n",
       "3                        Assam                                    1007   \n",
       "4                        Bihar                                    2007   \n",
       "\n",
       "  Community Health Centers(CHCs), Sub-District/Divisional Hospitals(SDHs)  \\\n",
       "0                               4                                     NaN   \n",
       "1                             198                                      31   \n",
       "2                              62                                     NaN   \n",
       "3                             166                                      14   \n",
       "4                              63                                      33   \n",
       "\n",
       "  District Hospitals(DHs) Hospitals HospitalBeds  \n",
       "0                       3        34         1246  \n",
       "1                      20      1666        60799  \n",
       "2                      15       199         2320  \n",
       "3                      33      1220        19115  \n",
       "4                      43      2146        17796  "
      ]
     },
     "execution_count": 22,
     "metadata": {},
     "output_type": "execute_result"
    }
   ],
   "source": [
    "def clean_state_names(name):\n",
    "\n",
    "    name = name.title().replace('&', 'and')\n",
    "    \n",
    "    words = name.split()\n",
    "    camel_case = []\n",
    "    for word in words:\n",
    "        if word.lower() == 'and':\n",
    "            camel_case.append('and')\n",
    "        else:\n",
    "            camel_case.append(word.capitalize())\n",
    "\n",
    "    return ' '.join(camel_case)\n",
    "\n",
    "hospital_data['State/UT'] = hospital_data['State/UT'].apply(clean_state_names)\n",
    "hospital_data.head(5)"
   ]
  },
  {
   "cell_type": "code",
   "execution_count": 23,
   "metadata": {},
   "outputs": [],
   "source": [
    "hospital_data.to_csv(\"Clean Data/hospitals.csv\")\n",
    "census_data = pd.read_csv('Clean Data/census.csv')"
   ]
  },
  {
   "cell_type": "markdown",
   "metadata": {},
   "source": [
    "## Problem Statement 12: (Analyze Healthcare facility disparity)"
   ]
  },
  {
   "cell_type": "code",
   "execution_count": 24,
   "metadata": {},
   "outputs": [
    {
     "data": {
      "text/plain": [
       "Index(['State/UT', 'Number of Primary Health Centers(PHCs),',\n",
       "       'Community Health Centers(CHCs),',\n",
       "       'Sub-District/Divisional Hospitals(SDHs)', 'District Hospitals(DHs)',\n",
       "       'Hospitals', 'HospitalBeds', 'District Name', 'Population', 'Male',\n",
       "       'Female', 'Literate', 'Literate_Male', 'Literate_Female',\n",
       "       'Households_Rural', 'Households_Urban', 'Households', 'Young_and_Adult',\n",
       "       'Middle_Aged', 'Senior_Citizen', 'Age_Not_Stated'],\n",
       "      dtype='object')"
      ]
     },
     "execution_count": 24,
     "metadata": {},
     "output_type": "execute_result"
    }
   ],
   "source": [
    "df = hospital_data.merge(census_data, on='State/UT')\n",
    "df.columns"
   ]
  },
  {
   "cell_type": "code",
   "execution_count": 25,
   "metadata": {},
   "outputs": [],
   "source": [
    "df = df.dropna(subset=['HospitalBeds', 'Population'])\n",
    "df = df.fillna(0)"
   ]
  },
  {
   "cell_type": "code",
   "execution_count": 26,
   "metadata": {},
   "outputs": [],
   "source": [
    "total_beds = df['HospitalBeds'].astype(int)\n",
    "population = df['Population'].astype(int)"
   ]
  },
  {
   "cell_type": "code",
   "execution_count": 29,
   "metadata": {},
   "outputs": [
    {
     "data": {
      "text/plain": [
       "0      338.200966\n",
       "1      117.995776\n",
       "2       52.321724\n",
       "3      224.922071\n",
       "4      259.328958\n",
       "          ...    \n",
       "590    105.490091\n",
       "591    113.779145\n",
       "592     62.684691\n",
       "593     86.519611\n",
       "594    100.400814\n",
       "Length: 594, dtype: float64"
      ]
     },
     "execution_count": 29,
     "metadata": {},
     "output_type": "execute_result"
    }
   ],
   "source": [
    "beds_per_10000 = (total_beds / population) * 10000\n",
    "beds_per_10000"
   ]
  },
  {
   "cell_type": "code",
   "execution_count": 30,
   "metadata": {},
   "outputs": [
    {
     "data": {
      "text/plain": [
       "237.69232176900633"
      ]
     },
     "execution_count": 30,
     "metadata": {},
     "output_type": "execute_result"
    }
   ],
   "source": [
    "national_avg = beds_per_10000.sum() / len(beds_per_10000)\n",
    "national_avg"
   ]
  },
  {
   "cell_type": "code",
   "execution_count": 49,
   "metadata": {},
   "outputs": [
    {
     "data": {
      "image/png": "[encoded data removed]",
      "text/plain": [
       "<Figure size 6000x2000 with 1 Axes>"
      ]
     },
     "metadata": {},
     "output_type": "display_data"
    }
   ],
   "source": [
    "plt.figure(figsize=(60, 20))\n",
    "plt.bar(df['State/UT'], beds_per_10000)\n",
    "plt.axhline(y=national_avg, color='r', linestyle='-')\n",
    "plt.xlabel('State')\n",
    "plt.ylabel('Beds per 10,000 people') \n",
    "plt.title('Hospital Beds per 10,000 People by State')\n",
    "\n",
    "plt.annotate(f'National Average = {national_avg:.2f}', xy=(0.5, 0.95),  \n",
    "             xycoords='axes fraction', horizontalalignment='center', \n",
    "             verticalalignment='top')\n",
    "\n",
    "plt.show()"
   ]
  },
  {
   "cell_type": "code",
   "execution_count": null,
   "metadata": {},
   "outputs": [],
   "source": []
  }
 ],
 "metadata": {
  "kernelspec": {
   "display_name": "Python 3",
   "language": "python",
   "name": "python3"
  },
  "language_info": {
   "codemirror_mode": {
    "name": "ipython",
    "version": 3
   },
   "file_extension": ".py",
   "mimetype": "text/x-python",
   "name": "python",
   "nbconvert_exporter": "python",
   "pygments_lexer": "ipython3",
   "version": "3.11.6"
  }
 },
 "nbformat": 4,
 "nbformat_minor": 2
}
